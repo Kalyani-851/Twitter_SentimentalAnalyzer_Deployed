{
 "cells": [
  {
   "cell_type": "code",
   "execution_count": 1,
   "metadata": {
    "id": "B4gSHa8KdGfU"
   },
   "outputs": [],
   "source": [
    "import numpy as np\n",
    "import pandas as pd\n",
    "import tweepy\n",
    "import json\n",
    "from tweepy import OAuthHandler"
   ]
  },
  {
   "cell_type": "code",
   "execution_count": 2,
   "metadata": {
    "id": "nRXUQQXHdL9j"
   },
   "outputs": [],
   "source": [
    "consumer_key = \"LzsCOl12ZZ79FObx7BV9a1R3a\"\n",
    "consumer_secret = \"gODxZ1kHJHDGgYfyP12AUN37UTlDd6yn3OsSV9Tl0iwu0K0cRY\"\n",
    "access_token = \"296102538-kYIK8SULCmRK4vgvYD2DhKbwvSXrgTdTkWh0Nvsp\"\n",
    "access_token_secret = \"Ib9obwgcE5tZk4S6tY5rAqI5iXOeJc9FGFg28qHoa4YpP\""
   ]
  },
  {
   "cell_type": "code",
   "execution_count": 3,
   "metadata": {
    "id": "39bfqoOUdPOw"
   },
   "outputs": [],
   "source": [
    "auth = tweepy.OAuthHandler( consumer_key , consumer_secret )\n",
    "auth.set_access_token( access_token , access_token_secret )\n",
    "api = tweepy.API(auth)"
   ]
  },
  {
   "cell_type": "code",
   "execution_count": 4,
   "metadata": {
    "id": "dwFlOc07dS7N"
   },
   "outputs": [],
   "source": [
    "query = \"RCB winning IPL\""
   ]
  },
  {
   "cell_type": "code",
   "execution_count": 5,
   "metadata": {
    "colab": {
     "base_uri": "https://localhost:8080/"
    },
    "id": "1AdTGopYdrIz",
    "outputId": "40f33984-d485-4798-8510-0753bbfbc656"
   },
   "outputs": [
    {
     "name": "stdout",
     "output_type": "stream",
     "text": [
      "Status(_api=<tweepy.api.API object at 0x0000018F1A4FD2C8>, _json={'created_at': 'Wed Nov 04 04:39:59 +0000 2020', 'id': 1323847435844661248, 'id_str': '1323847435844661248', 'full_text': \"Jason Holder is unsold in auction\\n After match winning knock against RCB 26* (10) and picking crucial wkts in last 3 games . In post match presentation vs rcb he said , he'd love to play ipl and come to India Anyways you're champion mate @Jaseholder98 we're lucky to have you #SRH https://t.co/WU0Sj2uWWo\", 'truncated': False, 'display_text_range': [0, 280], 'entities': {'hashtags': [{'text': 'SRH', 'indices': [276, 280]}], 'symbols': [], 'user_mentions': [{'screen_name': 'Jaseholder98', 'name': 'Jason Holder', 'id': 229433742, 'id_str': '229433742', 'indices': [238, 251]}], 'urls': [], 'media': [{'id': 1323847421521137667, 'id_str': '1323847421521137667', 'indices': [281, 304], 'media_url': 'http://pbs.twimg.com/media/El9AN0CVkAM0UdU.jpg', 'media_url_https': 'https://pbs.twimg.com/media/El9AN0CVkAM0UdU.jpg', 'url': 'https://t.co/WU0Sj2uWWo', 'display_url': 'pic.twitter.com/WU0Sj2uWWo', 'expanded_url': 'https://twitter.com/Sarath1111111/status/1323847435844661248/photo/1', 'type': 'photo', 'sizes': {'thumb': {'w': 150, 'h': 150, 'resize': 'crop'}, 'large': {'w': 720, 'h': 717, 'resize': 'fit'}, 'medium': {'w': 720, 'h': 717, 'resize': 'fit'}, 'small': {'w': 680, 'h': 677, 'resize': 'fit'}}}]}, 'extended_entities': {'media': [{'id': 1323847421521137667, 'id_str': '1323847421521137667', 'indices': [281, 304], 'media_url': 'http://pbs.twimg.com/media/El9AN0CVkAM0UdU.jpg', 'media_url_https': 'https://pbs.twimg.com/media/El9AN0CVkAM0UdU.jpg', 'url': 'https://t.co/WU0Sj2uWWo', 'display_url': 'pic.twitter.com/WU0Sj2uWWo', 'expanded_url': 'https://twitter.com/Sarath1111111/status/1323847435844661248/photo/1', 'type': 'photo', 'sizes': {'thumb': {'w': 150, 'h': 150, 'resize': 'crop'}, 'large': {'w': 720, 'h': 717, 'resize': 'fit'}, 'medium': {'w': 720, 'h': 717, 'resize': 'fit'}, 'small': {'w': 680, 'h': 677, 'resize': 'fit'}}}]}, 'metadata': {'iso_language_code': 'en', 'result_type': 'recent'}, 'source': '<a href=\"http://twitter.com/download/android\" rel=\"nofollow\">Twitter for Android</a>', 'in_reply_to_status_id': None, 'in_reply_to_status_id_str': None, 'in_reply_to_user_id': None, 'in_reply_to_user_id_str': None, 'in_reply_to_screen_name': None, 'user': {'id': 774422542249439232, 'id_str': '774422542249439232', 'name': 'SarathChandra', 'screen_name': 'Sarath1111111', 'location': 'Balcony4raina.com', 'description': '#Vaitlaism.\\nHypocrisy at its best.', 'url': None, 'entities': {'description': {'urls': []}}, 'protected': False, 'followers_count': 1250, 'friends_count': 350, 'listed_count': 2, 'created_at': 'Sat Sep 10 01:41:37 +0000 2016', 'favourites_count': 73128, 'utc_offset': None, 'time_zone': None, 'geo_enabled': True, 'verified': False, 'statuses_count': 36325, 'lang': None, 'contributors_enabled': False, 'is_translator': False, 'is_translation_enabled': False, 'profile_background_color': 'F5F8FA', 'profile_background_image_url': None, 'profile_background_image_url_https': None, 'profile_background_tile': False, 'profile_image_url': 'http://pbs.twimg.com/profile_images/1317849568633999361/lutQDBGV_normal.jpg', 'profile_image_url_https': 'https://pbs.twimg.com/profile_images/1317849568633999361/lutQDBGV_normal.jpg', 'profile_banner_url': 'https://pbs.twimg.com/profile_banners/774422542249439232/1580831496', 'profile_link_color': '1DA1F2', 'profile_sidebar_border_color': 'C0DEED', 'profile_sidebar_fill_color': 'DDEEF6', 'profile_text_color': '333333', 'profile_use_background_image': True, 'has_extended_profile': True, 'default_profile': True, 'default_profile_image': False, 'following': False, 'follow_request_sent': False, 'notifications': False, 'translator_type': 'none'}, 'geo': None, 'coordinates': None, 'place': None, 'contributors': None, 'is_quote_status': False, 'retweet_count': 0, 'favorite_count': 3, 'favorited': False, 'retweeted': False, 'possibly_sensitive': False, 'lang': 'en'}, created_at=datetime.datetime(2020, 11, 4, 4, 39, 59), id=1323847435844661248, id_str='1323847435844661248', full_text=\"Jason Holder is unsold in auction\\n After match winning knock against RCB 26* (10) and picking crucial wkts in last 3 games . In post match presentation vs rcb he said , he'd love to play ipl and come to India Anyways you're champion mate @Jaseholder98 we're lucky to have you #SRH https://t.co/WU0Sj2uWWo\", truncated=False, display_text_range=[0, 280], entities={'hashtags': [{'text': 'SRH', 'indices': [276, 280]}], 'symbols': [], 'user_mentions': [{'screen_name': 'Jaseholder98', 'name': 'Jason Holder', 'id': 229433742, 'id_str': '229433742', 'indices': [238, 251]}], 'urls': [], 'media': [{'id': 1323847421521137667, 'id_str': '1323847421521137667', 'indices': [281, 304], 'media_url': 'http://pbs.twimg.com/media/El9AN0CVkAM0UdU.jpg', 'media_url_https': 'https://pbs.twimg.com/media/El9AN0CVkAM0UdU.jpg', 'url': 'https://t.co/WU0Sj2uWWo', 'display_url': 'pic.twitter.com/WU0Sj2uWWo', 'expanded_url': 'https://twitter.com/Sarath1111111/status/1323847435844661248/photo/1', 'type': 'photo', 'sizes': {'thumb': {'w': 150, 'h': 150, 'resize': 'crop'}, 'large': {'w': 720, 'h': 717, 'resize': 'fit'}, 'medium': {'w': 720, 'h': 717, 'resize': 'fit'}, 'small': {'w': 680, 'h': 677, 'resize': 'fit'}}}]}, extended_entities={'media': [{'id': 1323847421521137667, 'id_str': '1323847421521137667', 'indices': [281, 304], 'media_url': 'http://pbs.twimg.com/media/El9AN0CVkAM0UdU.jpg', 'media_url_https': 'https://pbs.twimg.com/media/El9AN0CVkAM0UdU.jpg', 'url': 'https://t.co/WU0Sj2uWWo', 'display_url': 'pic.twitter.com/WU0Sj2uWWo', 'expanded_url': 'https://twitter.com/Sarath1111111/status/1323847435844661248/photo/1', 'type': 'photo', 'sizes': {'thumb': {'w': 150, 'h': 150, 'resize': 'crop'}, 'large': {'w': 720, 'h': 717, 'resize': 'fit'}, 'medium': {'w': 720, 'h': 717, 'resize': 'fit'}, 'small': {'w': 680, 'h': 677, 'resize': 'fit'}}}]}, metadata={'iso_language_code': 'en', 'result_type': 'recent'}, source='Twitter for Android', source_url='http://twitter.com/download/android', in_reply_to_status_id=None, in_reply_to_status_id_str=None, in_reply_to_user_id=None, in_reply_to_user_id_str=None, in_reply_to_screen_name=None, author=User(_api=<tweepy.api.API object at 0x0000018F1A4FD2C8>, _json={'id': 774422542249439232, 'id_str': '774422542249439232', 'name': 'SarathChandra', 'screen_name': 'Sarath1111111', 'location': 'Balcony4raina.com', 'description': '#Vaitlaism.\\nHypocrisy at its best.', 'url': None, 'entities': {'description': {'urls': []}}, 'protected': False, 'followers_count': 1250, 'friends_count': 350, 'listed_count': 2, 'created_at': 'Sat Sep 10 01:41:37 +0000 2016', 'favourites_count': 73128, 'utc_offset': None, 'time_zone': None, 'geo_enabled': True, 'verified': False, 'statuses_count': 36325, 'lang': None, 'contributors_enabled': False, 'is_translator': False, 'is_translation_enabled': False, 'profile_background_color': 'F5F8FA', 'profile_background_image_url': None, 'profile_background_image_url_https': None, 'profile_background_tile': False, 'profile_image_url': 'http://pbs.twimg.com/profile_images/1317849568633999361/lutQDBGV_normal.jpg', 'profile_image_url_https': 'https://pbs.twimg.com/profile_images/1317849568633999361/lutQDBGV_normal.jpg', 'profile_banner_url': 'https://pbs.twimg.com/profile_banners/774422542249439232/1580831496', 'profile_link_color': '1DA1F2', 'profile_sidebar_border_color': 'C0DEED', 'profile_sidebar_fill_color': 'DDEEF6', 'profile_text_color': '333333', 'profile_use_background_image': True, 'has_extended_profile': True, 'default_profile': True, 'default_profile_image': False, 'following': False, 'follow_request_sent': False, 'notifications': False, 'translator_type': 'none'}, id=774422542249439232, id_str='774422542249439232', name='SarathChandra', screen_name='Sarath1111111', location='Balcony4raina.com', description='#Vaitlaism.\\nHypocrisy at its best.', url=None, entities={'description': {'urls': []}}, protected=False, followers_count=1250, friends_count=350, listed_count=2, created_at=datetime.datetime(2016, 9, 10, 1, 41, 37), favourites_count=73128, utc_offset=None, time_zone=None, geo_enabled=True, verified=False, statuses_count=36325, lang=None, contributors_enabled=False, is_translator=False, is_translation_enabled=False, profile_background_color='F5F8FA', profile_background_image_url=None, profile_background_image_url_https=None, profile_background_tile=False, profile_image_url='http://pbs.twimg.com/profile_images/1317849568633999361/lutQDBGV_normal.jpg', profile_image_url_https='https://pbs.twimg.com/profile_images/1317849568633999361/lutQDBGV_normal.jpg', profile_banner_url='https://pbs.twimg.com/profile_banners/774422542249439232/1580831496', profile_link_color='1DA1F2', profile_sidebar_border_color='C0DEED', profile_sidebar_fill_color='DDEEF6', profile_text_color='333333', profile_use_background_image=True, has_extended_profile=True, default_profile=True, default_profile_image=False, following=False, follow_request_sent=False, notifications=False, translator_type='none'), user=User(_api=<tweepy.api.API object at 0x0000018F1A4FD2C8>, _json={'id': 774422542249439232, 'id_str': '774422542249439232', 'name': 'SarathChandra', 'screen_name': 'Sarath1111111', 'location': 'Balcony4raina.com', 'description': '#Vaitlaism.\\nHypocrisy at its best.', 'url': None, 'entities': {'description': {'urls': []}}, 'protected': False, 'followers_count': 1250, 'friends_count': 350, 'listed_count': 2, 'created_at': 'Sat Sep 10 01:41:37 +0000 2016', 'favourites_count': 73128, 'utc_offset': None, 'time_zone': None, 'geo_enabled': True, 'verified': False, 'statuses_count': 36325, 'lang': None, 'contributors_enabled': False, 'is_translator': False, 'is_translation_enabled': False, 'profile_background_color': 'F5F8FA', 'profile_background_image_url': None, 'profile_background_image_url_https': None, 'profile_background_tile': False, 'profile_image_url': 'http://pbs.twimg.com/profile_images/1317849568633999361/lutQDBGV_normal.jpg', 'profile_image_url_https': 'https://pbs.twimg.com/profile_images/1317849568633999361/lutQDBGV_normal.jpg', 'profile_banner_url': 'https://pbs.twimg.com/profile_banners/774422542249439232/1580831496', 'profile_link_color': '1DA1F2', 'profile_sidebar_border_color': 'C0DEED', 'profile_sidebar_fill_color': 'DDEEF6', 'profile_text_color': '333333', 'profile_use_background_image': True, 'has_extended_profile': True, 'default_profile': True, 'default_profile_image': False, 'following': False, 'follow_request_sent': False, 'notifications': False, 'translator_type': 'none'}, id=774422542249439232, id_str='774422542249439232', name='SarathChandra', screen_name='Sarath1111111', location='Balcony4raina.com', description='#Vaitlaism.\\nHypocrisy at its best.', url=None, entities={'description': {'urls': []}}, protected=False, followers_count=1250, friends_count=350, listed_count=2, created_at=datetime.datetime(2016, 9, 10, 1, 41, 37), favourites_count=73128, utc_offset=None, time_zone=None, geo_enabled=True, verified=False, statuses_count=36325, lang=None, contributors_enabled=False, is_translator=False, is_translation_enabled=False, profile_background_color='F5F8FA', profile_background_image_url=None, profile_background_image_url_https=None, profile_background_tile=False, profile_image_url='http://pbs.twimg.com/profile_images/1317849568633999361/lutQDBGV_normal.jpg', profile_image_url_https='https://pbs.twimg.com/profile_images/1317849568633999361/lutQDBGV_normal.jpg', profile_banner_url='https://pbs.twimg.com/profile_banners/774422542249439232/1580831496', profile_link_color='1DA1F2', profile_sidebar_border_color='C0DEED', profile_sidebar_fill_color='DDEEF6', profile_text_color='333333', profile_use_background_image=True, has_extended_profile=True, default_profile=True, default_profile_image=False, following=False, follow_request_sent=False, notifications=False, translator_type='none'), geo=None, coordinates=None, place=None, contributors=None, is_quote_status=False, retweet_count=0, favorite_count=3, favorited=False, retweeted=False, possibly_sensitive=False, lang='en') \n",
      "\n",
      ".....................................\n",
      "\n",
      "Status(_api=<tweepy.api.API object at 0x0000018F1A4FD2C8>, _json={'created_at': 'Wed Nov 04 04:03:46 +0000 2020', 'id': 1323838324310568962, 'id_str': '1323838324310568962', 'full_text': '@maakidaal @ESPNcricinfo @RCBTweets 2020 has been such an odd year that RCB winning IPL trophy this year would be a befitting tribute to the year itself. 😁', 'truncated': False, 'display_text_range': [36, 155], 'entities': {'hashtags': [], 'symbols': [], 'user_mentions': [{'screen_name': 'maakidaal', 'name': 'Ashok Chandrashekar', 'id': 105898580, 'id_str': '105898580', 'indices': [0, 10]}, {'screen_name': 'ESPNcricinfo', 'name': 'ESPNcricinfo', 'id': 16542390, 'id_str': '16542390', 'indices': [11, 24]}, {'screen_name': 'RCBTweets', 'name': 'Royal Challengers Bangalore', 'id': 70931004, 'id_str': '70931004', 'indices': [25, 35]}], 'urls': []}, 'metadata': {'iso_language_code': 'en', 'result_type': 'recent'}, 'source': '<a href=\"http://twitter.com/download/android\" rel=\"nofollow\">Twitter for Android</a>', 'in_reply_to_status_id': 1323833269947830273, 'in_reply_to_status_id_str': '1323833269947830273', 'in_reply_to_user_id': 105898580, 'in_reply_to_user_id_str': '105898580', 'in_reply_to_screen_name': 'maakidaal', 'user': {'id': 109236226, 'id_str': '109236226', 'name': 'CJ', 'screen_name': 'CJoshi28', 'location': 'Bangalore', 'description': 'Bio in progress...', 'url': None, 'entities': {'description': {'urls': []}}, 'protected': False, 'followers_count': 701, 'friends_count': 364, 'listed_count': 29, 'created_at': 'Thu Jan 28 11:43:37 +0000 2010', 'favourites_count': 19504, 'utc_offset': None, 'time_zone': None, 'geo_enabled': True, 'verified': False, 'statuses_count': 47362, 'lang': None, 'contributors_enabled': False, 'is_translator': False, 'is_translation_enabled': False, 'profile_background_color': 'EDECE9', 'profile_background_image_url': 'http://abs.twimg.com/images/themes/theme3/bg.gif', 'profile_background_image_url_https': 'https://abs.twimg.com/images/themes/theme3/bg.gif', 'profile_background_tile': False, 'profile_image_url': 'http://pbs.twimg.com/profile_images/1313415560185614340/wRG6ROIE_normal.jpg', 'profile_image_url_https': 'https://pbs.twimg.com/profile_images/1313415560185614340/wRG6ROIE_normal.jpg', 'profile_banner_url': 'https://pbs.twimg.com/profile_banners/109236226/1596258864', 'profile_link_color': '088253', 'profile_sidebar_border_color': 'D3D2CF', 'profile_sidebar_fill_color': 'E3E2DE', 'profile_text_color': '634047', 'profile_use_background_image': True, 'has_extended_profile': False, 'default_profile': False, 'default_profile_image': False, 'following': False, 'follow_request_sent': False, 'notifications': False, 'translator_type': 'none'}, 'geo': None, 'coordinates': None, 'place': None, 'contributors': None, 'is_quote_status': False, 'retweet_count': 0, 'favorite_count': 0, 'favorited': False, 'retweeted': False, 'lang': 'en'}, created_at=datetime.datetime(2020, 11, 4, 4, 3, 46), id=1323838324310568962, id_str='1323838324310568962', full_text='@maakidaal @ESPNcricinfo @RCBTweets 2020 has been such an odd year that RCB winning IPL trophy this year would be a befitting tribute to the year itself. 😁', truncated=False, display_text_range=[36, 155], entities={'hashtags': [], 'symbols': [], 'user_mentions': [{'screen_name': 'maakidaal', 'name': 'Ashok Chandrashekar', 'id': 105898580, 'id_str': '105898580', 'indices': [0, 10]}, {'screen_name': 'ESPNcricinfo', 'name': 'ESPNcricinfo', 'id': 16542390, 'id_str': '16542390', 'indices': [11, 24]}, {'screen_name': 'RCBTweets', 'name': 'Royal Challengers Bangalore', 'id': 70931004, 'id_str': '70931004', 'indices': [25, 35]}], 'urls': []}, metadata={'iso_language_code': 'en', 'result_type': 'recent'}, source='Twitter for Android', source_url='http://twitter.com/download/android', in_reply_to_status_id=1323833269947830273, in_reply_to_status_id_str='1323833269947830273', in_reply_to_user_id=105898580, in_reply_to_user_id_str='105898580', in_reply_to_screen_name='maakidaal', author=User(_api=<tweepy.api.API object at 0x0000018F1A4FD2C8>, _json={'id': 109236226, 'id_str': '109236226', 'name': 'CJ', 'screen_name': 'CJoshi28', 'location': 'Bangalore', 'description': 'Bio in progress...', 'url': None, 'entities': {'description': {'urls': []}}, 'protected': False, 'followers_count': 701, 'friends_count': 364, 'listed_count': 29, 'created_at': 'Thu Jan 28 11:43:37 +0000 2010', 'favourites_count': 19504, 'utc_offset': None, 'time_zone': None, 'geo_enabled': True, 'verified': False, 'statuses_count': 47362, 'lang': None, 'contributors_enabled': False, 'is_translator': False, 'is_translation_enabled': False, 'profile_background_color': 'EDECE9', 'profile_background_image_url': 'http://abs.twimg.com/images/themes/theme3/bg.gif', 'profile_background_image_url_https': 'https://abs.twimg.com/images/themes/theme3/bg.gif', 'profile_background_tile': False, 'profile_image_url': 'http://pbs.twimg.com/profile_images/1313415560185614340/wRG6ROIE_normal.jpg', 'profile_image_url_https': 'https://pbs.twimg.com/profile_images/1313415560185614340/wRG6ROIE_normal.jpg', 'profile_banner_url': 'https://pbs.twimg.com/profile_banners/109236226/1596258864', 'profile_link_color': '088253', 'profile_sidebar_border_color': 'D3D2CF', 'profile_sidebar_fill_color': 'E3E2DE', 'profile_text_color': '634047', 'profile_use_background_image': True, 'has_extended_profile': False, 'default_profile': False, 'default_profile_image': False, 'following': False, 'follow_request_sent': False, 'notifications': False, 'translator_type': 'none'}, id=109236226, id_str='109236226', name='CJ', screen_name='CJoshi28', location='Bangalore', description='Bio in progress...', url=None, entities={'description': {'urls': []}}, protected=False, followers_count=701, friends_count=364, listed_count=29, created_at=datetime.datetime(2010, 1, 28, 11, 43, 37), favourites_count=19504, utc_offset=None, time_zone=None, geo_enabled=True, verified=False, statuses_count=47362, lang=None, contributors_enabled=False, is_translator=False, is_translation_enabled=False, profile_background_color='EDECE9', profile_background_image_url='http://abs.twimg.com/images/themes/theme3/bg.gif', profile_background_image_url_https='https://abs.twimg.com/images/themes/theme3/bg.gif', profile_background_tile=False, profile_image_url='http://pbs.twimg.com/profile_images/1313415560185614340/wRG6ROIE_normal.jpg', profile_image_url_https='https://pbs.twimg.com/profile_images/1313415560185614340/wRG6ROIE_normal.jpg', profile_banner_url='https://pbs.twimg.com/profile_banners/109236226/1596258864', profile_link_color='088253', profile_sidebar_border_color='D3D2CF', profile_sidebar_fill_color='E3E2DE', profile_text_color='634047', profile_use_background_image=True, has_extended_profile=False, default_profile=False, default_profile_image=False, following=False, follow_request_sent=False, notifications=False, translator_type='none'), user=User(_api=<tweepy.api.API object at 0x0000018F1A4FD2C8>, _json={'id': 109236226, 'id_str': '109236226', 'name': 'CJ', 'screen_name': 'CJoshi28', 'location': 'Bangalore', 'description': 'Bio in progress...', 'url': None, 'entities': {'description': {'urls': []}}, 'protected': False, 'followers_count': 701, 'friends_count': 364, 'listed_count': 29, 'created_at': 'Thu Jan 28 11:43:37 +0000 2010', 'favourites_count': 19504, 'utc_offset': None, 'time_zone': None, 'geo_enabled': True, 'verified': False, 'statuses_count': 47362, 'lang': None, 'contributors_enabled': False, 'is_translator': False, 'is_translation_enabled': False, 'profile_background_color': 'EDECE9', 'profile_background_image_url': 'http://abs.twimg.com/images/themes/theme3/bg.gif', 'profile_background_image_url_https': 'https://abs.twimg.com/images/themes/theme3/bg.gif', 'profile_background_tile': False, 'profile_image_url': 'http://pbs.twimg.com/profile_images/1313415560185614340/wRG6ROIE_normal.jpg', 'profile_image_url_https': 'https://pbs.twimg.com/profile_images/1313415560185614340/wRG6ROIE_normal.jpg', 'profile_banner_url': 'https://pbs.twimg.com/profile_banners/109236226/1596258864', 'profile_link_color': '088253', 'profile_sidebar_border_color': 'D3D2CF', 'profile_sidebar_fill_color': 'E3E2DE', 'profile_text_color': '634047', 'profile_use_background_image': True, 'has_extended_profile': False, 'default_profile': False, 'default_profile_image': False, 'following': False, 'follow_request_sent': False, 'notifications': False, 'translator_type': 'none'}, id=109236226, id_str='109236226', name='CJ', screen_name='CJoshi28', location='Bangalore', description='Bio in progress...', url=None, entities={'description': {'urls': []}}, protected=False, followers_count=701, friends_count=364, listed_count=29, created_at=datetime.datetime(2010, 1, 28, 11, 43, 37), favourites_count=19504, utc_offset=None, time_zone=None, geo_enabled=True, verified=False, statuses_count=47362, lang=None, contributors_enabled=False, is_translator=False, is_translation_enabled=False, profile_background_color='EDECE9', profile_background_image_url='http://abs.twimg.com/images/themes/theme3/bg.gif', profile_background_image_url_https='https://abs.twimg.com/images/themes/theme3/bg.gif', profile_background_tile=False, profile_image_url='http://pbs.twimg.com/profile_images/1313415560185614340/wRG6ROIE_normal.jpg', profile_image_url_https='https://pbs.twimg.com/profile_images/1313415560185614340/wRG6ROIE_normal.jpg', profile_banner_url='https://pbs.twimg.com/profile_banners/109236226/1596258864', profile_link_color='088253', profile_sidebar_border_color='D3D2CF', profile_sidebar_fill_color='E3E2DE', profile_text_color='634047', profile_use_background_image=True, has_extended_profile=False, default_profile=False, default_profile_image=False, following=False, follow_request_sent=False, notifications=False, translator_type='none'), geo=None, coordinates=None, place=None, contributors=None, is_quote_status=False, retweet_count=0, favorite_count=0, favorited=False, retweeted=False, lang='en') \n",
      "\n",
      ".....................................\n",
      "\n",
      "Status(_api=<tweepy.api.API object at 0x0000018F1A4FD2C8>, _json={'created_at': 'Wed Nov 04 03:57:37 +0000 2020', 'id': 1323836775874220033, 'id_str': '1323836775874220033', 'full_text': '@RCBTweets @imVkohli Virat Kohli  Please IPL dream11 cup RCB winning 🏆🎉🎊🙏🙏', 'truncated': False, 'display_text_range': [21, 74], 'entities': {'hashtags': [], 'symbols': [], 'user_mentions': [{'screen_name': 'RCBTweets', 'name': 'Royal Challengers Bangalore', 'id': 70931004, 'id_str': '70931004', 'indices': [0, 10]}, {'screen_name': 'imVkohli', 'name': 'Virat Kohli', 'id': 71201743, 'id_str': '71201743', 'indices': [11, 20]}], 'urls': []}, 'metadata': {'iso_language_code': 'en', 'result_type': 'recent'}, 'source': '<a href=\"http://twitter.com/download/android\" rel=\"nofollow\">Twitter for Android</a>', 'in_reply_to_status_id': 1323497642026958848, 'in_reply_to_status_id_str': '1323497642026958848', 'in_reply_to_user_id': 70931004, 'in_reply_to_user_id_str': '70931004', 'in_reply_to_screen_name': 'RCBTweets', 'user': {'id': 1288038779287007232, 'id_str': '1288038779287007232', 'name': 'Shivakumar NR', 'screen_name': 'ShivakumarNR12', 'location': '', 'description': '🦁ವಿಷ್ಣುದಾದ ಅಭಿಮಾನಿ🦁', 'url': None, 'entities': {'description': {'urls': []}}, 'protected': False, 'followers_count': 4, 'friends_count': 73, 'listed_count': 0, 'created_at': 'Tue Jul 28 09:09:32 +0000 2020', 'favourites_count': 73, 'utc_offset': None, 'time_zone': None, 'geo_enabled': False, 'verified': False, 'statuses_count': 80, 'lang': None, 'contributors_enabled': False, 'is_translator': False, 'is_translation_enabled': False, 'profile_background_color': 'F5F8FA', 'profile_background_image_url': None, 'profile_background_image_url_https': None, 'profile_background_tile': False, 'profile_image_url': 'http://pbs.twimg.com/profile_images/1288096665203666945/yzxOZpAM_normal.jpg', 'profile_image_url_https': 'https://pbs.twimg.com/profile_images/1288096665203666945/yzxOZpAM_normal.jpg', 'profile_banner_url': 'https://pbs.twimg.com/profile_banners/1288038779287007232/1600669899', 'profile_link_color': '1DA1F2', 'profile_sidebar_border_color': 'C0DEED', 'profile_sidebar_fill_color': 'DDEEF6', 'profile_text_color': '333333', 'profile_use_background_image': True, 'has_extended_profile': True, 'default_profile': True, 'default_profile_image': False, 'following': False, 'follow_request_sent': False, 'notifications': False, 'translator_type': 'none'}, 'geo': None, 'coordinates': None, 'place': None, 'contributors': None, 'is_quote_status': False, 'retweet_count': 0, 'favorite_count': 0, 'favorited': False, 'retweeted': False, 'lang': 'en'}, created_at=datetime.datetime(2020, 11, 4, 3, 57, 37), id=1323836775874220033, id_str='1323836775874220033', full_text='@RCBTweets @imVkohli Virat Kohli  Please IPL dream11 cup RCB winning 🏆🎉🎊🙏🙏', truncated=False, display_text_range=[21, 74], entities={'hashtags': [], 'symbols': [], 'user_mentions': [{'screen_name': 'RCBTweets', 'name': 'Royal Challengers Bangalore', 'id': 70931004, 'id_str': '70931004', 'indices': [0, 10]}, {'screen_name': 'imVkohli', 'name': 'Virat Kohli', 'id': 71201743, 'id_str': '71201743', 'indices': [11, 20]}], 'urls': []}, metadata={'iso_language_code': 'en', 'result_type': 'recent'}, source='Twitter for Android', source_url='http://twitter.com/download/android', in_reply_to_status_id=1323497642026958848, in_reply_to_status_id_str='1323497642026958848', in_reply_to_user_id=70931004, in_reply_to_user_id_str='70931004', in_reply_to_screen_name='RCBTweets', author=User(_api=<tweepy.api.API object at 0x0000018F1A4FD2C8>, _json={'id': 1288038779287007232, 'id_str': '1288038779287007232', 'name': 'Shivakumar NR', 'screen_name': 'ShivakumarNR12', 'location': '', 'description': '🦁ವಿಷ್ಣುದಾದ ಅಭಿಮಾನಿ🦁', 'url': None, 'entities': {'description': {'urls': []}}, 'protected': False, 'followers_count': 4, 'friends_count': 73, 'listed_count': 0, 'created_at': 'Tue Jul 28 09:09:32 +0000 2020', 'favourites_count': 73, 'utc_offset': None, 'time_zone': None, 'geo_enabled': False, 'verified': False, 'statuses_count': 80, 'lang': None, 'contributors_enabled': False, 'is_translator': False, 'is_translation_enabled': False, 'profile_background_color': 'F5F8FA', 'profile_background_image_url': None, 'profile_background_image_url_https': None, 'profile_background_tile': False, 'profile_image_url': 'http://pbs.twimg.com/profile_images/1288096665203666945/yzxOZpAM_normal.jpg', 'profile_image_url_https': 'https://pbs.twimg.com/profile_images/1288096665203666945/yzxOZpAM_normal.jpg', 'profile_banner_url': 'https://pbs.twimg.com/profile_banners/1288038779287007232/1600669899', 'profile_link_color': '1DA1F2', 'profile_sidebar_border_color': 'C0DEED', 'profile_sidebar_fill_color': 'DDEEF6', 'profile_text_color': '333333', 'profile_use_background_image': True, 'has_extended_profile': True, 'default_profile': True, 'default_profile_image': False, 'following': False, 'follow_request_sent': False, 'notifications': False, 'translator_type': 'none'}, id=1288038779287007232, id_str='1288038779287007232', name='Shivakumar NR', screen_name='ShivakumarNR12', location='', description='🦁ವಿಷ್ಣುದಾದ ಅಭಿಮಾನಿ🦁', url=None, entities={'description': {'urls': []}}, protected=False, followers_count=4, friends_count=73, listed_count=0, created_at=datetime.datetime(2020, 7, 28, 9, 9, 32), favourites_count=73, utc_offset=None, time_zone=None, geo_enabled=False, verified=False, statuses_count=80, lang=None, contributors_enabled=False, is_translator=False, is_translation_enabled=False, profile_background_color='F5F8FA', profile_background_image_url=None, profile_background_image_url_https=None, profile_background_tile=False, profile_image_url='http://pbs.twimg.com/profile_images/1288096665203666945/yzxOZpAM_normal.jpg', profile_image_url_https='https://pbs.twimg.com/profile_images/1288096665203666945/yzxOZpAM_normal.jpg', profile_banner_url='https://pbs.twimg.com/profile_banners/1288038779287007232/1600669899', profile_link_color='1DA1F2', profile_sidebar_border_color='C0DEED', profile_sidebar_fill_color='DDEEF6', profile_text_color='333333', profile_use_background_image=True, has_extended_profile=True, default_profile=True, default_profile_image=False, following=False, follow_request_sent=False, notifications=False, translator_type='none'), user=User(_api=<tweepy.api.API object at 0x0000018F1A4FD2C8>, _json={'id': 1288038779287007232, 'id_str': '1288038779287007232', 'name': 'Shivakumar NR', 'screen_name': 'ShivakumarNR12', 'location': '', 'description': '🦁ವಿಷ್ಣುದಾದ ಅಭಿಮಾನಿ🦁', 'url': None, 'entities': {'description': {'urls': []}}, 'protected': False, 'followers_count': 4, 'friends_count': 73, 'listed_count': 0, 'created_at': 'Tue Jul 28 09:09:32 +0000 2020', 'favourites_count': 73, 'utc_offset': None, 'time_zone': None, 'geo_enabled': False, 'verified': False, 'statuses_count': 80, 'lang': None, 'contributors_enabled': False, 'is_translator': False, 'is_translation_enabled': False, 'profile_background_color': 'F5F8FA', 'profile_background_image_url': None, 'profile_background_image_url_https': None, 'profile_background_tile': False, 'profile_image_url': 'http://pbs.twimg.com/profile_images/1288096665203666945/yzxOZpAM_normal.jpg', 'profile_image_url_https': 'https://pbs.twimg.com/profile_images/1288096665203666945/yzxOZpAM_normal.jpg', 'profile_banner_url': 'https://pbs.twimg.com/profile_banners/1288038779287007232/1600669899', 'profile_link_color': '1DA1F2', 'profile_sidebar_border_color': 'C0DEED', 'profile_sidebar_fill_color': 'DDEEF6', 'profile_text_color': '333333', 'profile_use_background_image': True, 'has_extended_profile': True, 'default_profile': True, 'default_profile_image': False, 'following': False, 'follow_request_sent': False, 'notifications': False, 'translator_type': 'none'}, id=1288038779287007232, id_str='1288038779287007232', name='Shivakumar NR', screen_name='ShivakumarNR12', location='', description='🦁ವಿಷ್ಣುದಾದ ಅಭಿಮಾನಿ🦁', url=None, entities={'description': {'urls': []}}, protected=False, followers_count=4, friends_count=73, listed_count=0, created_at=datetime.datetime(2020, 7, 28, 9, 9, 32), favourites_count=73, utc_offset=None, time_zone=None, geo_enabled=False, verified=False, statuses_count=80, lang=None, contributors_enabled=False, is_translator=False, is_translation_enabled=False, profile_background_color='F5F8FA', profile_background_image_url=None, profile_background_image_url_https=None, profile_background_tile=False, profile_image_url='http://pbs.twimg.com/profile_images/1288096665203666945/yzxOZpAM_normal.jpg', profile_image_url_https='https://pbs.twimg.com/profile_images/1288096665203666945/yzxOZpAM_normal.jpg', profile_banner_url='https://pbs.twimg.com/profile_banners/1288038779287007232/1600669899', profile_link_color='1DA1F2', profile_sidebar_border_color='C0DEED', profile_sidebar_fill_color='DDEEF6', profile_text_color='333333', profile_use_background_image=True, has_extended_profile=True, default_profile=True, default_profile_image=False, following=False, follow_request_sent=False, notifications=False, translator_type='none'), geo=None, coordinates=None, place=None, contributors=None, is_quote_status=False, retweet_count=0, favorite_count=0, favorited=False, retweeted=False, lang='en') \n",
      "\n",
      ".....................................\n",
      "\n",
      "Status(_api=<tweepy.api.API object at 0x0000018F1A4FD2C8>, _json={'created_at': 'Wed Nov 04 03:18:57 +0000 2020', 'id': 1323827043310608384, 'id_str': '1323827043310608384', 'full_text': 'DC wins qualifier 1 and RCB wins eliminator, followed by RCB winning Qualifier 2 and leading up to RCB winning IPL, it sounds so pleasing to me. https://t.co/i5ZZ6Vsa9e', 'truncated': False, 'display_text_range': [0, 144], 'entities': {'hashtags': [], 'symbols': [], 'user_mentions': [], 'urls': [], 'media': [{'id': 1323827040034828294, 'id_str': '1323827040034828294', 'indices': [145, 168], 'media_url': 'http://pbs.twimg.com/media/El8trdFVMAYmDoz.jpg', 'media_url_https': 'https://pbs.twimg.com/media/El8trdFVMAYmDoz.jpg', 'url': 'https://t.co/i5ZZ6Vsa9e', 'display_url': 'pic.twitter.com/i5ZZ6Vsa9e', 'expanded_url': 'https://twitter.com/shrcya/status/1323827043310608384/photo/1', 'type': 'photo', 'sizes': {'small': {'w': 314, 'h': 680, 'resize': 'fit'}, 'thumb': {'w': 150, 'h': 150, 'resize': 'crop'}, 'medium': {'w': 554, 'h': 1200, 'resize': 'fit'}, 'large': {'w': 945, 'h': 2048, 'resize': 'fit'}}}]}, 'extended_entities': {'media': [{'id': 1323827040034828294, 'id_str': '1323827040034828294', 'indices': [145, 168], 'media_url': 'http://pbs.twimg.com/media/El8trdFVMAYmDoz.jpg', 'media_url_https': 'https://pbs.twimg.com/media/El8trdFVMAYmDoz.jpg', 'url': 'https://t.co/i5ZZ6Vsa9e', 'display_url': 'pic.twitter.com/i5ZZ6Vsa9e', 'expanded_url': 'https://twitter.com/shrcya/status/1323827043310608384/photo/1', 'type': 'photo', 'sizes': {'small': {'w': 314, 'h': 680, 'resize': 'fit'}, 'thumb': {'w': 150, 'h': 150, 'resize': 'crop'}, 'medium': {'w': 554, 'h': 1200, 'resize': 'fit'}, 'large': {'w': 945, 'h': 2048, 'resize': 'fit'}}}]}, 'metadata': {'iso_language_code': 'en', 'result_type': 'recent'}, 'source': '<a href=\"http://twitter.com/download/android\" rel=\"nofollow\">Twitter for Android</a>', 'in_reply_to_status_id': None, 'in_reply_to_status_id_str': None, 'in_reply_to_user_id': None, 'in_reply_to_user_id_str': None, 'in_reply_to_screen_name': None, 'user': {'id': 752595353560576000, 'id_str': '752595353560576000', 'name': 's', 'screen_name': 'shrcya', 'location': 'she/her | 20', 'description': \"in time, they'll join you in the sun, kal.\", 'url': None, 'entities': {'description': {'urls': []}}, 'protected': False, 'followers_count': 1202, 'friends_count': 63, 'listed_count': 44, 'created_at': 'Mon Jul 11 20:08:09 +0000 2016', 'favourites_count': 195041, 'utc_offset': None, 'time_zone': None, 'geo_enabled': True, 'verified': False, 'statuses_count': 81683, 'lang': None, 'contributors_enabled': False, 'is_translator': False, 'is_translation_enabled': False, 'profile_background_color': 'F5F8FA', 'profile_background_image_url': None, 'profile_background_image_url_https': None, 'profile_background_tile': False, 'profile_image_url': 'http://pbs.twimg.com/profile_images/1314464428268548102/TXnt1s6L_normal.jpg', 'profile_image_url_https': 'https://pbs.twimg.com/profile_images/1314464428268548102/TXnt1s6L_normal.jpg', 'profile_banner_url': 'https://pbs.twimg.com/profile_banners/752595353560576000/1594554736', 'profile_link_color': '1DA1F2', 'profile_sidebar_border_color': 'C0DEED', 'profile_sidebar_fill_color': 'DDEEF6', 'profile_text_color': '333333', 'profile_use_background_image': True, 'has_extended_profile': False, 'default_profile': True, 'default_profile_image': False, 'following': False, 'follow_request_sent': False, 'notifications': False, 'translator_type': 'none'}, 'geo': None, 'coordinates': None, 'place': None, 'contributors': None, 'is_quote_status': False, 'retweet_count': 0, 'favorite_count': 1, 'favorited': False, 'retweeted': False, 'possibly_sensitive': False, 'lang': 'en'}, created_at=datetime.datetime(2020, 11, 4, 3, 18, 57), id=1323827043310608384, id_str='1323827043310608384', full_text='DC wins qualifier 1 and RCB wins eliminator, followed by RCB winning Qualifier 2 and leading up to RCB winning IPL, it sounds so pleasing to me. https://t.co/i5ZZ6Vsa9e', truncated=False, display_text_range=[0, 144], entities={'hashtags': [], 'symbols': [], 'user_mentions': [], 'urls': [], 'media': [{'id': 1323827040034828294, 'id_str': '1323827040034828294', 'indices': [145, 168], 'media_url': 'http://pbs.twimg.com/media/El8trdFVMAYmDoz.jpg', 'media_url_https': 'https://pbs.twimg.com/media/El8trdFVMAYmDoz.jpg', 'url': 'https://t.co/i5ZZ6Vsa9e', 'display_url': 'pic.twitter.com/i5ZZ6Vsa9e', 'expanded_url': 'https://twitter.com/shrcya/status/1323827043310608384/photo/1', 'type': 'photo', 'sizes': {'small': {'w': 314, 'h': 680, 'resize': 'fit'}, 'thumb': {'w': 150, 'h': 150, 'resize': 'crop'}, 'medium': {'w': 554, 'h': 1200, 'resize': 'fit'}, 'large': {'w': 945, 'h': 2048, 'resize': 'fit'}}}]}, extended_entities={'media': [{'id': 1323827040034828294, 'id_str': '1323827040034828294', 'indices': [145, 168], 'media_url': 'http://pbs.twimg.com/media/El8trdFVMAYmDoz.jpg', 'media_url_https': 'https://pbs.twimg.com/media/El8trdFVMAYmDoz.jpg', 'url': 'https://t.co/i5ZZ6Vsa9e', 'display_url': 'pic.twitter.com/i5ZZ6Vsa9e', 'expanded_url': 'https://twitter.com/shrcya/status/1323827043310608384/photo/1', 'type': 'photo', 'sizes': {'small': {'w': 314, 'h': 680, 'resize': 'fit'}, 'thumb': {'w': 150, 'h': 150, 'resize': 'crop'}, 'medium': {'w': 554, 'h': 1200, 'resize': 'fit'}, 'large': {'w': 945, 'h': 2048, 'resize': 'fit'}}}]}, metadata={'iso_language_code': 'en', 'result_type': 'recent'}, source='Twitter for Android', source_url='http://twitter.com/download/android', in_reply_to_status_id=None, in_reply_to_status_id_str=None, in_reply_to_user_id=None, in_reply_to_user_id_str=None, in_reply_to_screen_name=None, author=User(_api=<tweepy.api.API object at 0x0000018F1A4FD2C8>, _json={'id': 752595353560576000, 'id_str': '752595353560576000', 'name': 's', 'screen_name': 'shrcya', 'location': 'she/her | 20', 'description': \"in time, they'll join you in the sun, kal.\", 'url': None, 'entities': {'description': {'urls': []}}, 'protected': False, 'followers_count': 1202, 'friends_count': 63, 'listed_count': 44, 'created_at': 'Mon Jul 11 20:08:09 +0000 2016', 'favourites_count': 195041, 'utc_offset': None, 'time_zone': None, 'geo_enabled': True, 'verified': False, 'statuses_count': 81683, 'lang': None, 'contributors_enabled': False, 'is_translator': False, 'is_translation_enabled': False, 'profile_background_color': 'F5F8FA', 'profile_background_image_url': None, 'profile_background_image_url_https': None, 'profile_background_tile': False, 'profile_image_url': 'http://pbs.twimg.com/profile_images/1314464428268548102/TXnt1s6L_normal.jpg', 'profile_image_url_https': 'https://pbs.twimg.com/profile_images/1314464428268548102/TXnt1s6L_normal.jpg', 'profile_banner_url': 'https://pbs.twimg.com/profile_banners/752595353560576000/1594554736', 'profile_link_color': '1DA1F2', 'profile_sidebar_border_color': 'C0DEED', 'profile_sidebar_fill_color': 'DDEEF6', 'profile_text_color': '333333', 'profile_use_background_image': True, 'has_extended_profile': False, 'default_profile': True, 'default_profile_image': False, 'following': False, 'follow_request_sent': False, 'notifications': False, 'translator_type': 'none'}, id=752595353560576000, id_str='752595353560576000', name='s', screen_name='shrcya', location='she/her | 20', description=\"in time, they'll join you in the sun, kal.\", url=None, entities={'description': {'urls': []}}, protected=False, followers_count=1202, friends_count=63, listed_count=44, created_at=datetime.datetime(2016, 7, 11, 20, 8, 9), favourites_count=195041, utc_offset=None, time_zone=None, geo_enabled=True, verified=False, statuses_count=81683, lang=None, contributors_enabled=False, is_translator=False, is_translation_enabled=False, profile_background_color='F5F8FA', profile_background_image_url=None, profile_background_image_url_https=None, profile_background_tile=False, profile_image_url='http://pbs.twimg.com/profile_images/1314464428268548102/TXnt1s6L_normal.jpg', profile_image_url_https='https://pbs.twimg.com/profile_images/1314464428268548102/TXnt1s6L_normal.jpg', profile_banner_url='https://pbs.twimg.com/profile_banners/752595353560576000/1594554736', profile_link_color='1DA1F2', profile_sidebar_border_color='C0DEED', profile_sidebar_fill_color='DDEEF6', profile_text_color='333333', profile_use_background_image=True, has_extended_profile=False, default_profile=True, default_profile_image=False, following=False, follow_request_sent=False, notifications=False, translator_type='none'), user=User(_api=<tweepy.api.API object at 0x0000018F1A4FD2C8>, _json={'id': 752595353560576000, 'id_str': '752595353560576000', 'name': 's', 'screen_name': 'shrcya', 'location': 'she/her | 20', 'description': \"in time, they'll join you in the sun, kal.\", 'url': None, 'entities': {'description': {'urls': []}}, 'protected': False, 'followers_count': 1202, 'friends_count': 63, 'listed_count': 44, 'created_at': 'Mon Jul 11 20:08:09 +0000 2016', 'favourites_count': 195041, 'utc_offset': None, 'time_zone': None, 'geo_enabled': True, 'verified': False, 'statuses_count': 81683, 'lang': None, 'contributors_enabled': False, 'is_translator': False, 'is_translation_enabled': False, 'profile_background_color': 'F5F8FA', 'profile_background_image_url': None, 'profile_background_image_url_https': None, 'profile_background_tile': False, 'profile_image_url': 'http://pbs.twimg.com/profile_images/1314464428268548102/TXnt1s6L_normal.jpg', 'profile_image_url_https': 'https://pbs.twimg.com/profile_images/1314464428268548102/TXnt1s6L_normal.jpg', 'profile_banner_url': 'https://pbs.twimg.com/profile_banners/752595353560576000/1594554736', 'profile_link_color': '1DA1F2', 'profile_sidebar_border_color': 'C0DEED', 'profile_sidebar_fill_color': 'DDEEF6', 'profile_text_color': '333333', 'profile_use_background_image': True, 'has_extended_profile': False, 'default_profile': True, 'default_profile_image': False, 'following': False, 'follow_request_sent': False, 'notifications': False, 'translator_type': 'none'}, id=752595353560576000, id_str='752595353560576000', name='s', screen_name='shrcya', location='she/her | 20', description=\"in time, they'll join you in the sun, kal.\", url=None, entities={'description': {'urls': []}}, protected=False, followers_count=1202, friends_count=63, listed_count=44, created_at=datetime.datetime(2016, 7, 11, 20, 8, 9), favourites_count=195041, utc_offset=None, time_zone=None, geo_enabled=True, verified=False, statuses_count=81683, lang=None, contributors_enabled=False, is_translator=False, is_translation_enabled=False, profile_background_color='F5F8FA', profile_background_image_url=None, profile_background_image_url_https=None, profile_background_tile=False, profile_image_url='http://pbs.twimg.com/profile_images/1314464428268548102/TXnt1s6L_normal.jpg', profile_image_url_https='https://pbs.twimg.com/profile_images/1314464428268548102/TXnt1s6L_normal.jpg', profile_banner_url='https://pbs.twimg.com/profile_banners/752595353560576000/1594554736', profile_link_color='1DA1F2', profile_sidebar_border_color='C0DEED', profile_sidebar_fill_color='DDEEF6', profile_text_color='333333', profile_use_background_image=True, has_extended_profile=False, default_profile=True, default_profile_image=False, following=False, follow_request_sent=False, notifications=False, translator_type='none'), geo=None, coordinates=None, place=None, contributors=None, is_quote_status=False, retweet_count=0, favorite_count=1, favorited=False, retweeted=False, possibly_sensitive=False, lang='en') \n",
      "\n",
      ".....................................\n",
      "\n",
      "Status(_api=<tweepy.api.API object at 0x0000018F1A4FD2C8>, _json={'created_at': 'Wed Nov 04 03:08:03 +0000 2020', 'id': 1323824301355663361, 'id_str': '1323824301355663361', 'full_text': '@ESPNcricinfo RCB winning 2020 IPL and DC runner up', 'truncated': False, 'display_text_range': [14, 51], 'entities': {'hashtags': [], 'symbols': [], 'user_mentions': [{'screen_name': 'ESPNcricinfo', 'name': 'ESPNcricinfo', 'id': 16542390, 'id_str': '16542390', 'indices': [0, 13]}], 'urls': []}, 'metadata': {'iso_language_code': 'en', 'result_type': 'recent'}, 'source': '<a href=\"https://mobile.twitter.com\" rel=\"nofollow\">Twitter Web App</a>', 'in_reply_to_status_id': 1323822736511152128, 'in_reply_to_status_id_str': '1323822736511152128', 'in_reply_to_user_id': 16542390, 'in_reply_to_user_id_str': '16542390', 'in_reply_to_screen_name': 'ESPNcricinfo', 'user': {'id': 2695590722, 'id_str': '2695590722', 'name': 'Chitrakaar', 'screen_name': 'ushank21', 'location': 'भारत', 'description': '❤️ से 🇮🇳\\nI believe in Dreams\\nSarcastic and Soluble\\nLove and Peace', 'url': None, 'entities': {'description': {'urls': []}}, 'protected': False, 'followers_count': 96, 'friends_count': 199, 'listed_count': 1, 'created_at': 'Thu Jul 31 12:21:13 +0000 2014', 'favourites_count': 12592, 'utc_offset': None, 'time_zone': None, 'geo_enabled': False, 'verified': False, 'statuses_count': 1691, 'lang': None, 'contributors_enabled': False, 'is_translator': False, 'is_translation_enabled': False, 'profile_background_color': 'C0DEED', 'profile_background_image_url': 'http://abs.twimg.com/images/themes/theme1/bg.png', 'profile_background_image_url_https': 'https://abs.twimg.com/images/themes/theme1/bg.png', 'profile_background_tile': False, 'profile_image_url': 'http://pbs.twimg.com/profile_images/1306653089714167814/N-xgubc7_normal.jpg', 'profile_image_url_https': 'https://pbs.twimg.com/profile_images/1306653089714167814/N-xgubc7_normal.jpg', 'profile_banner_url': 'https://pbs.twimg.com/profile_banners/2695590722/1576657550', 'profile_link_color': '1DA1F2', 'profile_sidebar_border_color': 'C0DEED', 'profile_sidebar_fill_color': 'DDEEF6', 'profile_text_color': '333333', 'profile_use_background_image': True, 'has_extended_profile': False, 'default_profile': True, 'default_profile_image': False, 'following': False, 'follow_request_sent': False, 'notifications': False, 'translator_type': 'none'}, 'geo': None, 'coordinates': None, 'place': None, 'contributors': None, 'is_quote_status': False, 'retweet_count': 1, 'favorite_count': 14, 'favorited': False, 'retweeted': False, 'lang': 'en'}, created_at=datetime.datetime(2020, 11, 4, 3, 8, 3), id=1323824301355663361, id_str='1323824301355663361', full_text='@ESPNcricinfo RCB winning 2020 IPL and DC runner up', truncated=False, display_text_range=[14, 51], entities={'hashtags': [], 'symbols': [], 'user_mentions': [{'screen_name': 'ESPNcricinfo', 'name': 'ESPNcricinfo', 'id': 16542390, 'id_str': '16542390', 'indices': [0, 13]}], 'urls': []}, metadata={'iso_language_code': 'en', 'result_type': 'recent'}, source='Twitter Web App', source_url='https://mobile.twitter.com', in_reply_to_status_id=1323822736511152128, in_reply_to_status_id_str='1323822736511152128', in_reply_to_user_id=16542390, in_reply_to_user_id_str='16542390', in_reply_to_screen_name='ESPNcricinfo', author=User(_api=<tweepy.api.API object at 0x0000018F1A4FD2C8>, _json={'id': 2695590722, 'id_str': '2695590722', 'name': 'Chitrakaar', 'screen_name': 'ushank21', 'location': 'भारत', 'description': '❤️ से 🇮🇳\\nI believe in Dreams\\nSarcastic and Soluble\\nLove and Peace', 'url': None, 'entities': {'description': {'urls': []}}, 'protected': False, 'followers_count': 96, 'friends_count': 199, 'listed_count': 1, 'created_at': 'Thu Jul 31 12:21:13 +0000 2014', 'favourites_count': 12592, 'utc_offset': None, 'time_zone': None, 'geo_enabled': False, 'verified': False, 'statuses_count': 1691, 'lang': None, 'contributors_enabled': False, 'is_translator': False, 'is_translation_enabled': False, 'profile_background_color': 'C0DEED', 'profile_background_image_url': 'http://abs.twimg.com/images/themes/theme1/bg.png', 'profile_background_image_url_https': 'https://abs.twimg.com/images/themes/theme1/bg.png', 'profile_background_tile': False, 'profile_image_url': 'http://pbs.twimg.com/profile_images/1306653089714167814/N-xgubc7_normal.jpg', 'profile_image_url_https': 'https://pbs.twimg.com/profile_images/1306653089714167814/N-xgubc7_normal.jpg', 'profile_banner_url': 'https://pbs.twimg.com/profile_banners/2695590722/1576657550', 'profile_link_color': '1DA1F2', 'profile_sidebar_border_color': 'C0DEED', 'profile_sidebar_fill_color': 'DDEEF6', 'profile_text_color': '333333', 'profile_use_background_image': True, 'has_extended_profile': False, 'default_profile': True, 'default_profile_image': False, 'following': False, 'follow_request_sent': False, 'notifications': False, 'translator_type': 'none'}, id=2695590722, id_str='2695590722', name='Chitrakaar', screen_name='ushank21', location='भारत', description='❤️ से 🇮🇳\\nI believe in Dreams\\nSarcastic and Soluble\\nLove and Peace', url=None, entities={'description': {'urls': []}}, protected=False, followers_count=96, friends_count=199, listed_count=1, created_at=datetime.datetime(2014, 7, 31, 12, 21, 13), favourites_count=12592, utc_offset=None, time_zone=None, geo_enabled=False, verified=False, statuses_count=1691, lang=None, contributors_enabled=False, is_translator=False, is_translation_enabled=False, profile_background_color='C0DEED', profile_background_image_url='http://abs.twimg.com/images/themes/theme1/bg.png', profile_background_image_url_https='https://abs.twimg.com/images/themes/theme1/bg.png', profile_background_tile=False, profile_image_url='http://pbs.twimg.com/profile_images/1306653089714167814/N-xgubc7_normal.jpg', profile_image_url_https='https://pbs.twimg.com/profile_images/1306653089714167814/N-xgubc7_normal.jpg', profile_banner_url='https://pbs.twimg.com/profile_banners/2695590722/1576657550', profile_link_color='1DA1F2', profile_sidebar_border_color='C0DEED', profile_sidebar_fill_color='DDEEF6', profile_text_color='333333', profile_use_background_image=True, has_extended_profile=False, default_profile=True, default_profile_image=False, following=False, follow_request_sent=False, notifications=False, translator_type='none'), user=User(_api=<tweepy.api.API object at 0x0000018F1A4FD2C8>, _json={'id': 2695590722, 'id_str': '2695590722', 'name': 'Chitrakaar', 'screen_name': 'ushank21', 'location': 'भारत', 'description': '❤️ से 🇮🇳\\nI believe in Dreams\\nSarcastic and Soluble\\nLove and Peace', 'url': None, 'entities': {'description': {'urls': []}}, 'protected': False, 'followers_count': 96, 'friends_count': 199, 'listed_count': 1, 'created_at': 'Thu Jul 31 12:21:13 +0000 2014', 'favourites_count': 12592, 'utc_offset': None, 'time_zone': None, 'geo_enabled': False, 'verified': False, 'statuses_count': 1691, 'lang': None, 'contributors_enabled': False, 'is_translator': False, 'is_translation_enabled': False, 'profile_background_color': 'C0DEED', 'profile_background_image_url': 'http://abs.twimg.com/images/themes/theme1/bg.png', 'profile_background_image_url_https': 'https://abs.twimg.com/images/themes/theme1/bg.png', 'profile_background_tile': False, 'profile_image_url': 'http://pbs.twimg.com/profile_images/1306653089714167814/N-xgubc7_normal.jpg', 'profile_image_url_https': 'https://pbs.twimg.com/profile_images/1306653089714167814/N-xgubc7_normal.jpg', 'profile_banner_url': 'https://pbs.twimg.com/profile_banners/2695590722/1576657550', 'profile_link_color': '1DA1F2', 'profile_sidebar_border_color': 'C0DEED', 'profile_sidebar_fill_color': 'DDEEF6', 'profile_text_color': '333333', 'profile_use_background_image': True, 'has_extended_profile': False, 'default_profile': True, 'default_profile_image': False, 'following': False, 'follow_request_sent': False, 'notifications': False, 'translator_type': 'none'}, id=2695590722, id_str='2695590722', name='Chitrakaar', screen_name='ushank21', location='भारत', description='❤️ से 🇮🇳\\nI believe in Dreams\\nSarcastic and Soluble\\nLove and Peace', url=None, entities={'description': {'urls': []}}, protected=False, followers_count=96, friends_count=199, listed_count=1, created_at=datetime.datetime(2014, 7, 31, 12, 21, 13), favourites_count=12592, utc_offset=None, time_zone=None, geo_enabled=False, verified=False, statuses_count=1691, lang=None, contributors_enabled=False, is_translator=False, is_translation_enabled=False, profile_background_color='C0DEED', profile_background_image_url='http://abs.twimg.com/images/themes/theme1/bg.png', profile_background_image_url_https='https://abs.twimg.com/images/themes/theme1/bg.png', profile_background_tile=False, profile_image_url='http://pbs.twimg.com/profile_images/1306653089714167814/N-xgubc7_normal.jpg', profile_image_url_https='https://pbs.twimg.com/profile_images/1306653089714167814/N-xgubc7_normal.jpg', profile_banner_url='https://pbs.twimg.com/profile_banners/2695590722/1576657550', profile_link_color='1DA1F2', profile_sidebar_border_color='C0DEED', profile_sidebar_fill_color='DDEEF6', profile_text_color='333333', profile_use_background_image=True, has_extended_profile=False, default_profile=True, default_profile_image=False, following=False, follow_request_sent=False, notifications=False, translator_type='none'), geo=None, coordinates=None, place=None, contributors=None, is_quote_status=False, retweet_count=1, favorite_count=14, favorited=False, retweeted=False, lang='en') \n",
      "\n",
      ".....................................\n",
      "\n",
      "Status(_api=<tweepy.api.API object at 0x0000018F1A4FD2C8>, _json={'created_at': 'Wed Nov 04 02:46:53 +0000 2020', 'id': 1323818972974702592, 'id_str': '1323818972974702592', 'full_text': '@VamosVirat @cricketaditya05 @imshubh_3618 @mufaddal_vohra What about India then, we lost Dhawan as well who is the best batsman when it comes to ICC tournaments... Dhawan is more valuable to India than Roy to England in that context. So better stop making excuses. Any why did RCB lose in 2016 IPL final despite being in winning position', 'truncated': False, 'display_text_range': [59, 338], 'entities': {'hashtags': [], 'symbols': [], 'user_mentions': [{'screen_name': 'VamosVirat', 'name': 'Aivy 🕉️', 'id': 998163810027388928, 'id_str': '998163810027388928', 'indices': [0, 11]}, {'screen_name': 'cricketaditya05', 'name': 'Cricketaditya05', 'id': 1315380207251943424, 'id_str': '1315380207251943424', 'indices': [12, 28]}, {'screen_name': 'imshubh_3618', 'name': 'Shubham Sagane', 'id': 940581020516040704, 'id_str': '940581020516040704', 'indices': [29, 42]}, {'screen_name': 'mufaddal_vohra', 'name': 'Mufaddal Vohra', 'id': 3133996860, 'id_str': '3133996860', 'indices': [43, 58]}], 'urls': []}, 'metadata': {'iso_language_code': 'en', 'result_type': 'recent'}, 'source': '<a href=\"http://twitter.com/download/android\" rel=\"nofollow\">Twitter for Android</a>', 'in_reply_to_status_id': 1323721134701862912, 'in_reply_to_status_id_str': '1323721134701862912', 'in_reply_to_user_id': 998163810027388928, 'in_reply_to_user_id_str': '998163810027388928', 'in_reply_to_screen_name': 'VamosVirat', 'user': {'id': 1177685019801870337, 'id_str': '1177685019801870337', 'name': 'Ramagiri Sujith Kumar', 'screen_name': 'SujithRamagiri', 'location': '', 'description': '', 'url': None, 'entities': {'description': {'urls': []}}, 'protected': False, 'followers_count': 16, 'friends_count': 155, 'listed_count': 0, 'created_at': 'Fri Sep 27 20:42:54 +0000 2019', 'favourites_count': 36, 'utc_offset': None, 'time_zone': None, 'geo_enabled': False, 'verified': False, 'statuses_count': 24, 'lang': None, 'contributors_enabled': False, 'is_translator': False, 'is_translation_enabled': False, 'profile_background_color': 'F5F8FA', 'profile_background_image_url': None, 'profile_background_image_url_https': None, 'profile_background_tile': False, 'profile_image_url': 'http://abs.twimg.com/sticky/default_profile_images/default_profile_normal.png', 'profile_image_url_https': 'https://abs.twimg.com/sticky/default_profile_images/default_profile_normal.png', 'profile_link_color': '1DA1F2', 'profile_sidebar_border_color': 'C0DEED', 'profile_sidebar_fill_color': 'DDEEF6', 'profile_text_color': '333333', 'profile_use_background_image': True, 'has_extended_profile': False, 'default_profile': True, 'default_profile_image': True, 'following': False, 'follow_request_sent': False, 'notifications': False, 'translator_type': 'none'}, 'geo': None, 'coordinates': None, 'place': None, 'contributors': None, 'is_quote_status': False, 'retweet_count': 0, 'favorite_count': 0, 'favorited': False, 'retweeted': False, 'lang': 'en'}, created_at=datetime.datetime(2020, 11, 4, 2, 46, 53), id=1323818972974702592, id_str='1323818972974702592', full_text='@VamosVirat @cricketaditya05 @imshubh_3618 @mufaddal_vohra What about India then, we lost Dhawan as well who is the best batsman when it comes to ICC tournaments... Dhawan is more valuable to India than Roy to England in that context. So better stop making excuses. Any why did RCB lose in 2016 IPL final despite being in winning position', truncated=False, display_text_range=[59, 338], entities={'hashtags': [], 'symbols': [], 'user_mentions': [{'screen_name': 'VamosVirat', 'name': 'Aivy 🕉️', 'id': 998163810027388928, 'id_str': '998163810027388928', 'indices': [0, 11]}, {'screen_name': 'cricketaditya05', 'name': 'Cricketaditya05', 'id': 1315380207251943424, 'id_str': '1315380207251943424', 'indices': [12, 28]}, {'screen_name': 'imshubh_3618', 'name': 'Shubham Sagane', 'id': 940581020516040704, 'id_str': '940581020516040704', 'indices': [29, 42]}, {'screen_name': 'mufaddal_vohra', 'name': 'Mufaddal Vohra', 'id': 3133996860, 'id_str': '3133996860', 'indices': [43, 58]}], 'urls': []}, metadata={'iso_language_code': 'en', 'result_type': 'recent'}, source='Twitter for Android', source_url='http://twitter.com/download/android', in_reply_to_status_id=1323721134701862912, in_reply_to_status_id_str='1323721134701862912', in_reply_to_user_id=998163810027388928, in_reply_to_user_id_str='998163810027388928', in_reply_to_screen_name='VamosVirat', author=User(_api=<tweepy.api.API object at 0x0000018F1A4FD2C8>, _json={'id': 1177685019801870337, 'id_str': '1177685019801870337', 'name': 'Ramagiri Sujith Kumar', 'screen_name': 'SujithRamagiri', 'location': '', 'description': '', 'url': None, 'entities': {'description': {'urls': []}}, 'protected': False, 'followers_count': 16, 'friends_count': 155, 'listed_count': 0, 'created_at': 'Fri Sep 27 20:42:54 +0000 2019', 'favourites_count': 36, 'utc_offset': None, 'time_zone': None, 'geo_enabled': False, 'verified': False, 'statuses_count': 24, 'lang': None, 'contributors_enabled': False, 'is_translator': False, 'is_translation_enabled': False, 'profile_background_color': 'F5F8FA', 'profile_background_image_url': None, 'profile_background_image_url_https': None, 'profile_background_tile': False, 'profile_image_url': 'http://abs.twimg.com/sticky/default_profile_images/default_profile_normal.png', 'profile_image_url_https': 'https://abs.twimg.com/sticky/default_profile_images/default_profile_normal.png', 'profile_link_color': '1DA1F2', 'profile_sidebar_border_color': 'C0DEED', 'profile_sidebar_fill_color': 'DDEEF6', 'profile_text_color': '333333', 'profile_use_background_image': True, 'has_extended_profile': False, 'default_profile': True, 'default_profile_image': True, 'following': False, 'follow_request_sent': False, 'notifications': False, 'translator_type': 'none'}, id=1177685019801870337, id_str='1177685019801870337', name='Ramagiri Sujith Kumar', screen_name='SujithRamagiri', location='', description='', url=None, entities={'description': {'urls': []}}, protected=False, followers_count=16, friends_count=155, listed_count=0, created_at=datetime.datetime(2019, 9, 27, 20, 42, 54), favourites_count=36, utc_offset=None, time_zone=None, geo_enabled=False, verified=False, statuses_count=24, lang=None, contributors_enabled=False, is_translator=False, is_translation_enabled=False, profile_background_color='F5F8FA', profile_background_image_url=None, profile_background_image_url_https=None, profile_background_tile=False, profile_image_url='http://abs.twimg.com/sticky/default_profile_images/default_profile_normal.png', profile_image_url_https='https://abs.twimg.com/sticky/default_profile_images/default_profile_normal.png', profile_link_color='1DA1F2', profile_sidebar_border_color='C0DEED', profile_sidebar_fill_color='DDEEF6', profile_text_color='333333', profile_use_background_image=True, has_extended_profile=False, default_profile=True, default_profile_image=True, following=False, follow_request_sent=False, notifications=False, translator_type='none'), user=User(_api=<tweepy.api.API object at 0x0000018F1A4FD2C8>, _json={'id': 1177685019801870337, 'id_str': '1177685019801870337', 'name': 'Ramagiri Sujith Kumar', 'screen_name': 'SujithRamagiri', 'location': '', 'description': '', 'url': None, 'entities': {'description': {'urls': []}}, 'protected': False, 'followers_count': 16, 'friends_count': 155, 'listed_count': 0, 'created_at': 'Fri Sep 27 20:42:54 +0000 2019', 'favourites_count': 36, 'utc_offset': None, 'time_zone': None, 'geo_enabled': False, 'verified': False, 'statuses_count': 24, 'lang': None, 'contributors_enabled': False, 'is_translator': False, 'is_translation_enabled': False, 'profile_background_color': 'F5F8FA', 'profile_background_image_url': None, 'profile_background_image_url_https': None, 'profile_background_tile': False, 'profile_image_url': 'http://abs.twimg.com/sticky/default_profile_images/default_profile_normal.png', 'profile_image_url_https': 'https://abs.twimg.com/sticky/default_profile_images/default_profile_normal.png', 'profile_link_color': '1DA1F2', 'profile_sidebar_border_color': 'C0DEED', 'profile_sidebar_fill_color': 'DDEEF6', 'profile_text_color': '333333', 'profile_use_background_image': True, 'has_extended_profile': False, 'default_profile': True, 'default_profile_image': True, 'following': False, 'follow_request_sent': False, 'notifications': False, 'translator_type': 'none'}, id=1177685019801870337, id_str='1177685019801870337', name='Ramagiri Sujith Kumar', screen_name='SujithRamagiri', location='', description='', url=None, entities={'description': {'urls': []}}, protected=False, followers_count=16, friends_count=155, listed_count=0, created_at=datetime.datetime(2019, 9, 27, 20, 42, 54), favourites_count=36, utc_offset=None, time_zone=None, geo_enabled=False, verified=False, statuses_count=24, lang=None, contributors_enabled=False, is_translator=False, is_translation_enabled=False, profile_background_color='F5F8FA', profile_background_image_url=None, profile_background_image_url_https=None, profile_background_tile=False, profile_image_url='http://abs.twimg.com/sticky/default_profile_images/default_profile_normal.png', profile_image_url_https='https://abs.twimg.com/sticky/default_profile_images/default_profile_normal.png', profile_link_color='1DA1F2', profile_sidebar_border_color='C0DEED', profile_sidebar_fill_color='DDEEF6', profile_text_color='333333', profile_use_background_image=True, has_extended_profile=False, default_profile=True, default_profile_image=True, following=False, follow_request_sent=False, notifications=False, translator_type='none'), geo=None, coordinates=None, place=None, contributors=None, is_quote_status=False, retweet_count=0, favorite_count=0, favorited=False, retweeted=False, lang='en') \n",
      "\n",
      ".....................................\n",
      "\n",
      "Status(_api=<tweepy.api.API object at 0x0000018F1A4FD2C8>, _json={'created_at': 'Tue Nov 03 22:37:16 +0000 2020', 'id': 1323756154594324482, 'id_str': '1323756154594324482', 'full_text': \"@Mnkp14 @ImRo45 Jlte wo v kisse virat se \\n264\\n209\\n208\\n200+ in test match\\nWinning %,78.94 in odi as indian cap\\n4 ipl trophy's\\n1 champions trophy\\n5 century in wc\\n40 century total.\\n😂😂🤣🤣 Jlte abhi twiter le kon hag rha hai \\nAur ghbrao nhi eliminator se hi bahr jaega tmhra rcb .\", 'truncated': False, 'display_text_range': [16, 274], 'entities': {'hashtags': [], 'symbols': [], 'user_mentions': [{'screen_name': 'Mnkp14', 'name': 'Mnkp', 'id': 1316450636976648193, 'id_str': '1316450636976648193', 'indices': [0, 7]}, {'screen_name': 'ImRo45', 'name': 'Rohit Sharma', 'id': 121046433, 'id_str': '121046433', 'indices': [8, 15]}], 'urls': []}, 'metadata': {'iso_language_code': 'en', 'result_type': 'recent'}, 'source': '<a href=\"http://twitter.com/download/android\" rel=\"nofollow\">Twitter for Android</a>', 'in_reply_to_status_id': 1323753063107219462, 'in_reply_to_status_id_str': '1323753063107219462', 'in_reply_to_user_id': 1316450636976648193, 'in_reply_to_user_id_str': '1316450636976648193', 'in_reply_to_screen_name': 'Mnkp14', 'user': {'id': 3624558078, 'id_str': '3624558078', 'name': 'Akash deep srivastava', 'screen_name': 'akashdeep5211', 'location': 'Bihar, India', 'description': '', 'url': None, 'entities': {'description': {'urls': []}}, 'protected': False, 'followers_count': 28, 'friends_count': 45, 'listed_count': 0, 'created_at': 'Sun Sep 20 07:44:35 +0000 2015', 'favourites_count': 8, 'utc_offset': None, 'time_zone': None, 'geo_enabled': True, 'verified': False, 'statuses_count': 27, 'lang': None, 'contributors_enabled': False, 'is_translator': False, 'is_translation_enabled': False, 'profile_background_color': '000000', 'profile_background_image_url': 'http://abs.twimg.com/images/themes/theme1/bg.png', 'profile_background_image_url_https': 'https://abs.twimg.com/images/themes/theme1/bg.png', 'profile_background_tile': False, 'profile_image_url': 'http://pbs.twimg.com/profile_images/1315716141030010885/hC5JUNyb_normal.jpg', 'profile_image_url_https': 'https://pbs.twimg.com/profile_images/1315716141030010885/hC5JUNyb_normal.jpg', 'profile_banner_url': 'https://pbs.twimg.com/profile_banners/3624558078/1602526293', 'profile_link_color': 'DD2E44', 'profile_sidebar_border_color': '000000', 'profile_sidebar_fill_color': '000000', 'profile_text_color': '000000', 'profile_use_background_image': False, 'has_extended_profile': True, 'default_profile': False, 'default_profile_image': False, 'following': False, 'follow_request_sent': False, 'notifications': False, 'translator_type': 'none'}, 'geo': None, 'coordinates': None, 'place': None, 'contributors': None, 'is_quote_status': False, 'retweet_count': 0, 'favorite_count': 1, 'favorited': False, 'retweeted': False, 'lang': 'en'}, created_at=datetime.datetime(2020, 11, 3, 22, 37, 16), id=1323756154594324482, id_str='1323756154594324482', full_text=\"@Mnkp14 @ImRo45 Jlte wo v kisse virat se \\n264\\n209\\n208\\n200+ in test match\\nWinning %,78.94 in odi as indian cap\\n4 ipl trophy's\\n1 champions trophy\\n5 century in wc\\n40 century total.\\n😂😂🤣🤣 Jlte abhi twiter le kon hag rha hai \\nAur ghbrao nhi eliminator se hi bahr jaega tmhra rcb .\", truncated=False, display_text_range=[16, 274], entities={'hashtags': [], 'symbols': [], 'user_mentions': [{'screen_name': 'Mnkp14', 'name': 'Mnkp', 'id': 1316450636976648193, 'id_str': '1316450636976648193', 'indices': [0, 7]}, {'screen_name': 'ImRo45', 'name': 'Rohit Sharma', 'id': 121046433, 'id_str': '121046433', 'indices': [8, 15]}], 'urls': []}, metadata={'iso_language_code': 'en', 'result_type': 'recent'}, source='Twitter for Android', source_url='http://twitter.com/download/android', in_reply_to_status_id=1323753063107219462, in_reply_to_status_id_str='1323753063107219462', in_reply_to_user_id=1316450636976648193, in_reply_to_user_id_str='1316450636976648193', in_reply_to_screen_name='Mnkp14', author=User(_api=<tweepy.api.API object at 0x0000018F1A4FD2C8>, _json={'id': 3624558078, 'id_str': '3624558078', 'name': 'Akash deep srivastava', 'screen_name': 'akashdeep5211', 'location': 'Bihar, India', 'description': '', 'url': None, 'entities': {'description': {'urls': []}}, 'protected': False, 'followers_count': 28, 'friends_count': 45, 'listed_count': 0, 'created_at': 'Sun Sep 20 07:44:35 +0000 2015', 'favourites_count': 8, 'utc_offset': None, 'time_zone': None, 'geo_enabled': True, 'verified': False, 'statuses_count': 27, 'lang': None, 'contributors_enabled': False, 'is_translator': False, 'is_translation_enabled': False, 'profile_background_color': '000000', 'profile_background_image_url': 'http://abs.twimg.com/images/themes/theme1/bg.png', 'profile_background_image_url_https': 'https://abs.twimg.com/images/themes/theme1/bg.png', 'profile_background_tile': False, 'profile_image_url': 'http://pbs.twimg.com/profile_images/1315716141030010885/hC5JUNyb_normal.jpg', 'profile_image_url_https': 'https://pbs.twimg.com/profile_images/1315716141030010885/hC5JUNyb_normal.jpg', 'profile_banner_url': 'https://pbs.twimg.com/profile_banners/3624558078/1602526293', 'profile_link_color': 'DD2E44', 'profile_sidebar_border_color': '000000', 'profile_sidebar_fill_color': '000000', 'profile_text_color': '000000', 'profile_use_background_image': False, 'has_extended_profile': True, 'default_profile': False, 'default_profile_image': False, 'following': False, 'follow_request_sent': False, 'notifications': False, 'translator_type': 'none'}, id=3624558078, id_str='3624558078', name='Akash deep srivastava', screen_name='akashdeep5211', location='Bihar, India', description='', url=None, entities={'description': {'urls': []}}, protected=False, followers_count=28, friends_count=45, listed_count=0, created_at=datetime.datetime(2015, 9, 20, 7, 44, 35), favourites_count=8, utc_offset=None, time_zone=None, geo_enabled=True, verified=False, statuses_count=27, lang=None, contributors_enabled=False, is_translator=False, is_translation_enabled=False, profile_background_color='000000', profile_background_image_url='http://abs.twimg.com/images/themes/theme1/bg.png', profile_background_image_url_https='https://abs.twimg.com/images/themes/theme1/bg.png', profile_background_tile=False, profile_image_url='http://pbs.twimg.com/profile_images/1315716141030010885/hC5JUNyb_normal.jpg', profile_image_url_https='https://pbs.twimg.com/profile_images/1315716141030010885/hC5JUNyb_normal.jpg', profile_banner_url='https://pbs.twimg.com/profile_banners/3624558078/1602526293', profile_link_color='DD2E44', profile_sidebar_border_color='000000', profile_sidebar_fill_color='000000', profile_text_color='000000', profile_use_background_image=False, has_extended_profile=True, default_profile=False, default_profile_image=False, following=False, follow_request_sent=False, notifications=False, translator_type='none'), user=User(_api=<tweepy.api.API object at 0x0000018F1A4FD2C8>, _json={'id': 3624558078, 'id_str': '3624558078', 'name': 'Akash deep srivastava', 'screen_name': 'akashdeep5211', 'location': 'Bihar, India', 'description': '', 'url': None, 'entities': {'description': {'urls': []}}, 'protected': False, 'followers_count': 28, 'friends_count': 45, 'listed_count': 0, 'created_at': 'Sun Sep 20 07:44:35 +0000 2015', 'favourites_count': 8, 'utc_offset': None, 'time_zone': None, 'geo_enabled': True, 'verified': False, 'statuses_count': 27, 'lang': None, 'contributors_enabled': False, 'is_translator': False, 'is_translation_enabled': False, 'profile_background_color': '000000', 'profile_background_image_url': 'http://abs.twimg.com/images/themes/theme1/bg.png', 'profile_background_image_url_https': 'https://abs.twimg.com/images/themes/theme1/bg.png', 'profile_background_tile': False, 'profile_image_url': 'http://pbs.twimg.com/profile_images/1315716141030010885/hC5JUNyb_normal.jpg', 'profile_image_url_https': 'https://pbs.twimg.com/profile_images/1315716141030010885/hC5JUNyb_normal.jpg', 'profile_banner_url': 'https://pbs.twimg.com/profile_banners/3624558078/1602526293', 'profile_link_color': 'DD2E44', 'profile_sidebar_border_color': '000000', 'profile_sidebar_fill_color': '000000', 'profile_text_color': '000000', 'profile_use_background_image': False, 'has_extended_profile': True, 'default_profile': False, 'default_profile_image': False, 'following': False, 'follow_request_sent': False, 'notifications': False, 'translator_type': 'none'}, id=3624558078, id_str='3624558078', name='Akash deep srivastava', screen_name='akashdeep5211', location='Bihar, India', description='', url=None, entities={'description': {'urls': []}}, protected=False, followers_count=28, friends_count=45, listed_count=0, created_at=datetime.datetime(2015, 9, 20, 7, 44, 35), favourites_count=8, utc_offset=None, time_zone=None, geo_enabled=True, verified=False, statuses_count=27, lang=None, contributors_enabled=False, is_translator=False, is_translation_enabled=False, profile_background_color='000000', profile_background_image_url='http://abs.twimg.com/images/themes/theme1/bg.png', profile_background_image_url_https='https://abs.twimg.com/images/themes/theme1/bg.png', profile_background_tile=False, profile_image_url='http://pbs.twimg.com/profile_images/1315716141030010885/hC5JUNyb_normal.jpg', profile_image_url_https='https://pbs.twimg.com/profile_images/1315716141030010885/hC5JUNyb_normal.jpg', profile_banner_url='https://pbs.twimg.com/profile_banners/3624558078/1602526293', profile_link_color='DD2E44', profile_sidebar_border_color='000000', profile_sidebar_fill_color='000000', profile_text_color='000000', profile_use_background_image=False, has_extended_profile=True, default_profile=False, default_profile_image=False, following=False, follow_request_sent=False, notifications=False, translator_type='none'), geo=None, coordinates=None, place=None, contributors=None, is_quote_status=False, retweet_count=0, favorite_count=1, favorited=False, retweeted=False, lang='en') \n",
      "\n",
      ".....................................\n",
      "\n",
      "Status(_api=<tweepy.api.API object at 0x0000018F1A4FD2C8>, _json={'created_at': 'Tue Nov 03 18:26:13 +0000 2020', 'id': 1323692977672261632, 'id_str': '1323692977672261632', 'full_text': 'Who will become the #IPL2020 champion? #IPL #Playoffs #MI #DC #SRH #RCB #winning #starikelungal @IPL #SRHvsMI', 'truncated': False, 'display_text_range': [0, 109], 'entities': {'hashtags': [{'text': 'IPL2020', 'indices': [20, 28]}, {'text': 'IPL', 'indices': [39, 43]}, {'text': 'Playoffs', 'indices': [44, 53]}, {'text': 'MI', 'indices': [54, 57]}, {'text': 'DC', 'indices': [58, 61]}, {'text': 'SRH', 'indices': [62, 66]}, {'text': 'RCB', 'indices': [67, 71]}, {'text': 'winning', 'indices': [72, 80]}, {'text': 'starikelungal', 'indices': [81, 95]}, {'text': 'SRHvsMI', 'indices': [101, 109]}], 'symbols': [], 'user_mentions': [{'screen_name': 'IPL', 'name': 'IndianPremierLeague', 'id': 15639696, 'id_str': '15639696', 'indices': [96, 100]}], 'urls': []}, 'metadata': {'iso_language_code': 'en', 'result_type': 'recent'}, 'source': '<a href=\"http://twitter.com/download/android\" rel=\"nofollow\">Twitter for Android</a>', 'in_reply_to_status_id': None, 'in_reply_to_status_id_str': None, 'in_reply_to_user_id': None, 'in_reply_to_user_id_str': None, 'in_reply_to_screen_name': None, 'user': {'id': 1075408711877685248, 'id_str': '1075408711877685248', 'name': 'Gopalakrishnan', 'screen_name': 'Gopal10057841', 'location': 'Tamil Nadu, India', 'description': 'self analyzing person,fresher😀', 'url': None, 'entities': {'description': {'urls': []}}, 'protected': False, 'followers_count': 17, 'friends_count': 266, 'listed_count': 0, 'created_at': 'Wed Dec 19 15:13:11 +0000 2018', 'favourites_count': 258, 'utc_offset': None, 'time_zone': None, 'geo_enabled': False, 'verified': False, 'statuses_count': 1110, 'lang': None, 'contributors_enabled': False, 'is_translator': False, 'is_translation_enabled': False, 'profile_background_color': 'F5F8FA', 'profile_background_image_url': None, 'profile_background_image_url_https': None, 'profile_background_tile': False, 'profile_image_url': 'http://pbs.twimg.com/profile_images/1279312471224795137/G8v_54VR_normal.jpg', 'profile_image_url_https': 'https://pbs.twimg.com/profile_images/1279312471224795137/G8v_54VR_normal.jpg', 'profile_link_color': '1DA1F2', 'profile_sidebar_border_color': 'C0DEED', 'profile_sidebar_fill_color': 'DDEEF6', 'profile_text_color': '333333', 'profile_use_background_image': True, 'has_extended_profile': True, 'default_profile': True, 'default_profile_image': False, 'following': False, 'follow_request_sent': False, 'notifications': False, 'translator_type': 'none'}, 'geo': None, 'coordinates': None, 'place': None, 'contributors': None, 'is_quote_status': False, 'retweet_count': 0, 'favorite_count': 1, 'favorited': False, 'retweeted': False, 'lang': 'en'}, created_at=datetime.datetime(2020, 11, 3, 18, 26, 13), id=1323692977672261632, id_str='1323692977672261632', full_text='Who will become the #IPL2020 champion? #IPL #Playoffs #MI #DC #SRH #RCB #winning #starikelungal @IPL #SRHvsMI', truncated=False, display_text_range=[0, 109], entities={'hashtags': [{'text': 'IPL2020', 'indices': [20, 28]}, {'text': 'IPL', 'indices': [39, 43]}, {'text': 'Playoffs', 'indices': [44, 53]}, {'text': 'MI', 'indices': [54, 57]}, {'text': 'DC', 'indices': [58, 61]}, {'text': 'SRH', 'indices': [62, 66]}, {'text': 'RCB', 'indices': [67, 71]}, {'text': 'winning', 'indices': [72, 80]}, {'text': 'starikelungal', 'indices': [81, 95]}, {'text': 'SRHvsMI', 'indices': [101, 109]}], 'symbols': [], 'user_mentions': [{'screen_name': 'IPL', 'name': 'IndianPremierLeague', 'id': 15639696, 'id_str': '15639696', 'indices': [96, 100]}], 'urls': []}, metadata={'iso_language_code': 'en', 'result_type': 'recent'}, source='Twitter for Android', source_url='http://twitter.com/download/android', in_reply_to_status_id=None, in_reply_to_status_id_str=None, in_reply_to_user_id=None, in_reply_to_user_id_str=None, in_reply_to_screen_name=None, author=User(_api=<tweepy.api.API object at 0x0000018F1A4FD2C8>, _json={'id': 1075408711877685248, 'id_str': '1075408711877685248', 'name': 'Gopalakrishnan', 'screen_name': 'Gopal10057841', 'location': 'Tamil Nadu, India', 'description': 'self analyzing person,fresher😀', 'url': None, 'entities': {'description': {'urls': []}}, 'protected': False, 'followers_count': 17, 'friends_count': 266, 'listed_count': 0, 'created_at': 'Wed Dec 19 15:13:11 +0000 2018', 'favourites_count': 258, 'utc_offset': None, 'time_zone': None, 'geo_enabled': False, 'verified': False, 'statuses_count': 1110, 'lang': None, 'contributors_enabled': False, 'is_translator': False, 'is_translation_enabled': False, 'profile_background_color': 'F5F8FA', 'profile_background_image_url': None, 'profile_background_image_url_https': None, 'profile_background_tile': False, 'profile_image_url': 'http://pbs.twimg.com/profile_images/1279312471224795137/G8v_54VR_normal.jpg', 'profile_image_url_https': 'https://pbs.twimg.com/profile_images/1279312471224795137/G8v_54VR_normal.jpg', 'profile_link_color': '1DA1F2', 'profile_sidebar_border_color': 'C0DEED', 'profile_sidebar_fill_color': 'DDEEF6', 'profile_text_color': '333333', 'profile_use_background_image': True, 'has_extended_profile': True, 'default_profile': True, 'default_profile_image': False, 'following': False, 'follow_request_sent': False, 'notifications': False, 'translator_type': 'none'}, id=1075408711877685248, id_str='1075408711877685248', name='Gopalakrishnan', screen_name='Gopal10057841', location='Tamil Nadu, India', description='self analyzing person,fresher😀', url=None, entities={'description': {'urls': []}}, protected=False, followers_count=17, friends_count=266, listed_count=0, created_at=datetime.datetime(2018, 12, 19, 15, 13, 11), favourites_count=258, utc_offset=None, time_zone=None, geo_enabled=False, verified=False, statuses_count=1110, lang=None, contributors_enabled=False, is_translator=False, is_translation_enabled=False, profile_background_color='F5F8FA', profile_background_image_url=None, profile_background_image_url_https=None, profile_background_tile=False, profile_image_url='http://pbs.twimg.com/profile_images/1279312471224795137/G8v_54VR_normal.jpg', profile_image_url_https='https://pbs.twimg.com/profile_images/1279312471224795137/G8v_54VR_normal.jpg', profile_link_color='1DA1F2', profile_sidebar_border_color='C0DEED', profile_sidebar_fill_color='DDEEF6', profile_text_color='333333', profile_use_background_image=True, has_extended_profile=True, default_profile=True, default_profile_image=False, following=False, follow_request_sent=False, notifications=False, translator_type='none'), user=User(_api=<tweepy.api.API object at 0x0000018F1A4FD2C8>, _json={'id': 1075408711877685248, 'id_str': '1075408711877685248', 'name': 'Gopalakrishnan', 'screen_name': 'Gopal10057841', 'location': 'Tamil Nadu, India', 'description': 'self analyzing person,fresher😀', 'url': None, 'entities': {'description': {'urls': []}}, 'protected': False, 'followers_count': 17, 'friends_count': 266, 'listed_count': 0, 'created_at': 'Wed Dec 19 15:13:11 +0000 2018', 'favourites_count': 258, 'utc_offset': None, 'time_zone': None, 'geo_enabled': False, 'verified': False, 'statuses_count': 1110, 'lang': None, 'contributors_enabled': False, 'is_translator': False, 'is_translation_enabled': False, 'profile_background_color': 'F5F8FA', 'profile_background_image_url': None, 'profile_background_image_url_https': None, 'profile_background_tile': False, 'profile_image_url': 'http://pbs.twimg.com/profile_images/1279312471224795137/G8v_54VR_normal.jpg', 'profile_image_url_https': 'https://pbs.twimg.com/profile_images/1279312471224795137/G8v_54VR_normal.jpg', 'profile_link_color': '1DA1F2', 'profile_sidebar_border_color': 'C0DEED', 'profile_sidebar_fill_color': 'DDEEF6', 'profile_text_color': '333333', 'profile_use_background_image': True, 'has_extended_profile': True, 'default_profile': True, 'default_profile_image': False, 'following': False, 'follow_request_sent': False, 'notifications': False, 'translator_type': 'none'}, id=1075408711877685248, id_str='1075408711877685248', name='Gopalakrishnan', screen_name='Gopal10057841', location='Tamil Nadu, India', description='self analyzing person,fresher😀', url=None, entities={'description': {'urls': []}}, protected=False, followers_count=17, friends_count=266, listed_count=0, created_at=datetime.datetime(2018, 12, 19, 15, 13, 11), favourites_count=258, utc_offset=None, time_zone=None, geo_enabled=False, verified=False, statuses_count=1110, lang=None, contributors_enabled=False, is_translator=False, is_translation_enabled=False, profile_background_color='F5F8FA', profile_background_image_url=None, profile_background_image_url_https=None, profile_background_tile=False, profile_image_url='http://pbs.twimg.com/profile_images/1279312471224795137/G8v_54VR_normal.jpg', profile_image_url_https='https://pbs.twimg.com/profile_images/1279312471224795137/G8v_54VR_normal.jpg', profile_link_color='1DA1F2', profile_sidebar_border_color='C0DEED', profile_sidebar_fill_color='DDEEF6', profile_text_color='333333', profile_use_background_image=True, has_extended_profile=True, default_profile=True, default_profile_image=False, following=False, follow_request_sent=False, notifications=False, translator_type='none'), geo=None, coordinates=None, place=None, contributors=None, is_quote_status=False, retweet_count=0, favorite_count=1, favorited=False, retweeted=False, lang='en') \n",
      "\n",
      ".....................................\n",
      "\n",
      "Status(_api=<tweepy.api.API object at 0x0000018F1A4FD2C8>, _json={'created_at': 'Tue Nov 03 18:24:26 +0000 2020', 'id': 1323692530039336960, 'id_str': '1323692530039336960', 'full_text': '@Vara_4_Chintu No rcb winning this IPL 👍🏼', 'truncated': False, 'display_text_range': [15, 41], 'entities': {'hashtags': [], 'symbols': [], 'user_mentions': [{'screen_name': 'Vara_4_Chintu', 'name': 'CHINTU', 'id': 1272917904472764416, 'id_str': '1272917904472764416', 'indices': [0, 14]}], 'urls': []}, 'metadata': {'iso_language_code': 'en', 'result_type': 'recent'}, 'source': '<a href=\"http://twitter.com/download/android\" rel=\"nofollow\">Twitter for Android</a>', 'in_reply_to_status_id': 1323691966299742209, 'in_reply_to_status_id_str': '1323691966299742209', 'in_reply_to_user_id': 1272917904472764416, 'in_reply_to_user_id_str': '1272917904472764416', 'in_reply_to_screen_name': 'Vara_4_Chintu', 'user': {'id': 867254509147475968, 'id_str': '867254509147475968', 'name': 'Finals DC vs RCB', 'screen_name': 'Sai_AA_', 'location': '', 'description': 'UG soon', 'url': None, 'entities': {'description': {'urls': []}}, 'protected': False, 'followers_count': 2794, 'friends_count': 565, 'listed_count': 1, 'created_at': 'Wed May 24 05:42:42 +0000 2017', 'favourites_count': 22953, 'utc_offset': None, 'time_zone': None, 'geo_enabled': True, 'verified': False, 'statuses_count': 140726, 'lang': None, 'contributors_enabled': False, 'is_translator': False, 'is_translation_enabled': False, 'profile_background_color': 'F5F8FA', 'profile_background_image_url': None, 'profile_background_image_url_https': None, 'profile_background_tile': False, 'profile_image_url': 'http://pbs.twimg.com/profile_images/1321172010265833472/VRYdLwlY_normal.jpg', 'profile_image_url_https': 'https://pbs.twimg.com/profile_images/1321172010265833472/VRYdLwlY_normal.jpg', 'profile_banner_url': 'https://pbs.twimg.com/profile_banners/867254509147475968/1583299973', 'profile_link_color': '1DA1F2', 'profile_sidebar_border_color': 'C0DEED', 'profile_sidebar_fill_color': 'DDEEF6', 'profile_text_color': '333333', 'profile_use_background_image': True, 'has_extended_profile': True, 'default_profile': True, 'default_profile_image': False, 'following': False, 'follow_request_sent': False, 'notifications': False, 'translator_type': 'none'}, 'geo': None, 'coordinates': None, 'place': None, 'contributors': None, 'is_quote_status': False, 'retweet_count': 0, 'favorite_count': 0, 'favorited': False, 'retweeted': False, 'lang': 'en'}, created_at=datetime.datetime(2020, 11, 3, 18, 24, 26), id=1323692530039336960, id_str='1323692530039336960', full_text='@Vara_4_Chintu No rcb winning this IPL 👍🏼', truncated=False, display_text_range=[15, 41], entities={'hashtags': [], 'symbols': [], 'user_mentions': [{'screen_name': 'Vara_4_Chintu', 'name': 'CHINTU', 'id': 1272917904472764416, 'id_str': '1272917904472764416', 'indices': [0, 14]}], 'urls': []}, metadata={'iso_language_code': 'en', 'result_type': 'recent'}, source='Twitter for Android', source_url='http://twitter.com/download/android', in_reply_to_status_id=1323691966299742209, in_reply_to_status_id_str='1323691966299742209', in_reply_to_user_id=1272917904472764416, in_reply_to_user_id_str='1272917904472764416', in_reply_to_screen_name='Vara_4_Chintu', author=User(_api=<tweepy.api.API object at 0x0000018F1A4FD2C8>, _json={'id': 867254509147475968, 'id_str': '867254509147475968', 'name': 'Finals DC vs RCB', 'screen_name': 'Sai_AA_', 'location': '', 'description': 'UG soon', 'url': None, 'entities': {'description': {'urls': []}}, 'protected': False, 'followers_count': 2794, 'friends_count': 565, 'listed_count': 1, 'created_at': 'Wed May 24 05:42:42 +0000 2017', 'favourites_count': 22953, 'utc_offset': None, 'time_zone': None, 'geo_enabled': True, 'verified': False, 'statuses_count': 140726, 'lang': None, 'contributors_enabled': False, 'is_translator': False, 'is_translation_enabled': False, 'profile_background_color': 'F5F8FA', 'profile_background_image_url': None, 'profile_background_image_url_https': None, 'profile_background_tile': False, 'profile_image_url': 'http://pbs.twimg.com/profile_images/1321172010265833472/VRYdLwlY_normal.jpg', 'profile_image_url_https': 'https://pbs.twimg.com/profile_images/1321172010265833472/VRYdLwlY_normal.jpg', 'profile_banner_url': 'https://pbs.twimg.com/profile_banners/867254509147475968/1583299973', 'profile_link_color': '1DA1F2', 'profile_sidebar_border_color': 'C0DEED', 'profile_sidebar_fill_color': 'DDEEF6', 'profile_text_color': '333333', 'profile_use_background_image': True, 'has_extended_profile': True, 'default_profile': True, 'default_profile_image': False, 'following': False, 'follow_request_sent': False, 'notifications': False, 'translator_type': 'none'}, id=867254509147475968, id_str='867254509147475968', name='Finals DC vs RCB', screen_name='Sai_AA_', location='', description='UG soon', url=None, entities={'description': {'urls': []}}, protected=False, followers_count=2794, friends_count=565, listed_count=1, created_at=datetime.datetime(2017, 5, 24, 5, 42, 42), favourites_count=22953, utc_offset=None, time_zone=None, geo_enabled=True, verified=False, statuses_count=140726, lang=None, contributors_enabled=False, is_translator=False, is_translation_enabled=False, profile_background_color='F5F8FA', profile_background_image_url=None, profile_background_image_url_https=None, profile_background_tile=False, profile_image_url='http://pbs.twimg.com/profile_images/1321172010265833472/VRYdLwlY_normal.jpg', profile_image_url_https='https://pbs.twimg.com/profile_images/1321172010265833472/VRYdLwlY_normal.jpg', profile_banner_url='https://pbs.twimg.com/profile_banners/867254509147475968/1583299973', profile_link_color='1DA1F2', profile_sidebar_border_color='C0DEED', profile_sidebar_fill_color='DDEEF6', profile_text_color='333333', profile_use_background_image=True, has_extended_profile=True, default_profile=True, default_profile_image=False, following=False, follow_request_sent=False, notifications=False, translator_type='none'), user=User(_api=<tweepy.api.API object at 0x0000018F1A4FD2C8>, _json={'id': 867254509147475968, 'id_str': '867254509147475968', 'name': 'Finals DC vs RCB', 'screen_name': 'Sai_AA_', 'location': '', 'description': 'UG soon', 'url': None, 'entities': {'description': {'urls': []}}, 'protected': False, 'followers_count': 2794, 'friends_count': 565, 'listed_count': 1, 'created_at': 'Wed May 24 05:42:42 +0000 2017', 'favourites_count': 22953, 'utc_offset': None, 'time_zone': None, 'geo_enabled': True, 'verified': False, 'statuses_count': 140726, 'lang': None, 'contributors_enabled': False, 'is_translator': False, 'is_translation_enabled': False, 'profile_background_color': 'F5F8FA', 'profile_background_image_url': None, 'profile_background_image_url_https': None, 'profile_background_tile': False, 'profile_image_url': 'http://pbs.twimg.com/profile_images/1321172010265833472/VRYdLwlY_normal.jpg', 'profile_image_url_https': 'https://pbs.twimg.com/profile_images/1321172010265833472/VRYdLwlY_normal.jpg', 'profile_banner_url': 'https://pbs.twimg.com/profile_banners/867254509147475968/1583299973', 'profile_link_color': '1DA1F2', 'profile_sidebar_border_color': 'C0DEED', 'profile_sidebar_fill_color': 'DDEEF6', 'profile_text_color': '333333', 'profile_use_background_image': True, 'has_extended_profile': True, 'default_profile': True, 'default_profile_image': False, 'following': False, 'follow_request_sent': False, 'notifications': False, 'translator_type': 'none'}, id=867254509147475968, id_str='867254509147475968', name='Finals DC vs RCB', screen_name='Sai_AA_', location='', description='UG soon', url=None, entities={'description': {'urls': []}}, protected=False, followers_count=2794, friends_count=565, listed_count=1, created_at=datetime.datetime(2017, 5, 24, 5, 42, 42), favourites_count=22953, utc_offset=None, time_zone=None, geo_enabled=True, verified=False, statuses_count=140726, lang=None, contributors_enabled=False, is_translator=False, is_translation_enabled=False, profile_background_color='F5F8FA', profile_background_image_url=None, profile_background_image_url_https=None, profile_background_tile=False, profile_image_url='http://pbs.twimg.com/profile_images/1321172010265833472/VRYdLwlY_normal.jpg', profile_image_url_https='https://pbs.twimg.com/profile_images/1321172010265833472/VRYdLwlY_normal.jpg', profile_banner_url='https://pbs.twimg.com/profile_banners/867254509147475968/1583299973', profile_link_color='1DA1F2', profile_sidebar_border_color='C0DEED', profile_sidebar_fill_color='DDEEF6', profile_text_color='333333', profile_use_background_image=True, has_extended_profile=True, default_profile=True, default_profile_image=False, following=False, follow_request_sent=False, notifications=False, translator_type='none'), geo=None, coordinates=None, place=None, contributors=None, is_quote_status=False, retweet_count=0, favorite_count=0, favorited=False, retweeted=False, lang='en') \n",
      "\n",
      ".....................................\n",
      "\n",
      "Status(_api=<tweepy.api.API object at 0x0000018F1A4FD2C8>, _json={'created_at': 'Tue Nov 03 17:51:08 +0000 2020', 'id': 1323684147936727041, 'id_str': '1323684147936727041', 'full_text': '@OviyaBalan SRH has to repeat their last 3 games results to lift the IPL.\\nWinning RCB then DC then MI', 'truncated': False, 'display_text_range': [12, 101], 'entities': {'hashtags': [], 'symbols': [], 'user_mentions': [{'screen_name': 'OviyaBalan', 'name': 'Oviya Balan', 'id': 139033465, 'id_str': '139033465', 'indices': [0, 11]}], 'urls': []}, 'metadata': {'iso_language_code': 'en', 'result_type': 'recent'}, 'source': '<a href=\"http://twitter.com/download/android\" rel=\"nofollow\">Twitter for Android</a>', 'in_reply_to_status_id': 1323672335707107328, 'in_reply_to_status_id_str': '1323672335707107328', 'in_reply_to_user_id': 139033465, 'in_reply_to_user_id_str': '139033465', 'in_reply_to_screen_name': 'OviyaBalan', 'user': {'id': 83066296, 'id_str': '83066296', 'name': 'Thiyagarajan', 'screen_name': 'thiyagu102', 'location': 'Chennai', 'description': '', 'url': None, 'entities': {'description': {'urls': []}}, 'protected': False, 'followers_count': 89, 'friends_count': 408, 'listed_count': 0, 'created_at': 'Sat Oct 17 05:39:06 +0000 2009', 'favourites_count': 514, 'utc_offset': None, 'time_zone': None, 'geo_enabled': True, 'verified': False, 'statuses_count': 316, 'lang': None, 'contributors_enabled': False, 'is_translator': False, 'is_translation_enabled': False, 'profile_background_color': 'C0DEED', 'profile_background_image_url': 'http://abs.twimg.com/images/themes/theme1/bg.png', 'profile_background_image_url_https': 'https://abs.twimg.com/images/themes/theme1/bg.png', 'profile_background_tile': False, 'profile_image_url': 'http://pbs.twimg.com/profile_images/891522721862963200/HN3X3QsZ_normal.jpg', 'profile_image_url_https': 'https://pbs.twimg.com/profile_images/891522721862963200/HN3X3QsZ_normal.jpg', 'profile_link_color': '1DA1F2', 'profile_sidebar_border_color': 'C0DEED', 'profile_sidebar_fill_color': 'DDEEF6', 'profile_text_color': '333333', 'profile_use_background_image': True, 'has_extended_profile': False, 'default_profile': True, 'default_profile_image': False, 'following': False, 'follow_request_sent': False, 'notifications': False, 'translator_type': 'none'}, 'geo': None, 'coordinates': None, 'place': None, 'contributors': None, 'is_quote_status': False, 'retweet_count': 0, 'favorite_count': 1, 'favorited': False, 'retweeted': False, 'lang': 'en'}, created_at=datetime.datetime(2020, 11, 3, 17, 51, 8), id=1323684147936727041, id_str='1323684147936727041', full_text='@OviyaBalan SRH has to repeat their last 3 games results to lift the IPL.\\nWinning RCB then DC then MI', truncated=False, display_text_range=[12, 101], entities={'hashtags': [], 'symbols': [], 'user_mentions': [{'screen_name': 'OviyaBalan', 'name': 'Oviya Balan', 'id': 139033465, 'id_str': '139033465', 'indices': [0, 11]}], 'urls': []}, metadata={'iso_language_code': 'en', 'result_type': 'recent'}, source='Twitter for Android', source_url='http://twitter.com/download/android', in_reply_to_status_id=1323672335707107328, in_reply_to_status_id_str='1323672335707107328', in_reply_to_user_id=139033465, in_reply_to_user_id_str='139033465', in_reply_to_screen_name='OviyaBalan', author=User(_api=<tweepy.api.API object at 0x0000018F1A4FD2C8>, _json={'id': 83066296, 'id_str': '83066296', 'name': 'Thiyagarajan', 'screen_name': 'thiyagu102', 'location': 'Chennai', 'description': '', 'url': None, 'entities': {'description': {'urls': []}}, 'protected': False, 'followers_count': 89, 'friends_count': 408, 'listed_count': 0, 'created_at': 'Sat Oct 17 05:39:06 +0000 2009', 'favourites_count': 514, 'utc_offset': None, 'time_zone': None, 'geo_enabled': True, 'verified': False, 'statuses_count': 316, 'lang': None, 'contributors_enabled': False, 'is_translator': False, 'is_translation_enabled': False, 'profile_background_color': 'C0DEED', 'profile_background_image_url': 'http://abs.twimg.com/images/themes/theme1/bg.png', 'profile_background_image_url_https': 'https://abs.twimg.com/images/themes/theme1/bg.png', 'profile_background_tile': False, 'profile_image_url': 'http://pbs.twimg.com/profile_images/891522721862963200/HN3X3QsZ_normal.jpg', 'profile_image_url_https': 'https://pbs.twimg.com/profile_images/891522721862963200/HN3X3QsZ_normal.jpg', 'profile_link_color': '1DA1F2', 'profile_sidebar_border_color': 'C0DEED', 'profile_sidebar_fill_color': 'DDEEF6', 'profile_text_color': '333333', 'profile_use_background_image': True, 'has_extended_profile': False, 'default_profile': True, 'default_profile_image': False, 'following': False, 'follow_request_sent': False, 'notifications': False, 'translator_type': 'none'}, id=83066296, id_str='83066296', name='Thiyagarajan', screen_name='thiyagu102', location='Chennai', description='', url=None, entities={'description': {'urls': []}}, protected=False, followers_count=89, friends_count=408, listed_count=0, created_at=datetime.datetime(2009, 10, 17, 5, 39, 6), favourites_count=514, utc_offset=None, time_zone=None, geo_enabled=True, verified=False, statuses_count=316, lang=None, contributors_enabled=False, is_translator=False, is_translation_enabled=False, profile_background_color='C0DEED', profile_background_image_url='http://abs.twimg.com/images/themes/theme1/bg.png', profile_background_image_url_https='https://abs.twimg.com/images/themes/theme1/bg.png', profile_background_tile=False, profile_image_url='http://pbs.twimg.com/profile_images/891522721862963200/HN3X3QsZ_normal.jpg', profile_image_url_https='https://pbs.twimg.com/profile_images/891522721862963200/HN3X3QsZ_normal.jpg', profile_link_color='1DA1F2', profile_sidebar_border_color='C0DEED', profile_sidebar_fill_color='DDEEF6', profile_text_color='333333', profile_use_background_image=True, has_extended_profile=False, default_profile=True, default_profile_image=False, following=False, follow_request_sent=False, notifications=False, translator_type='none'), user=User(_api=<tweepy.api.API object at 0x0000018F1A4FD2C8>, _json={'id': 83066296, 'id_str': '83066296', 'name': 'Thiyagarajan', 'screen_name': 'thiyagu102', 'location': 'Chennai', 'description': '', 'url': None, 'entities': {'description': {'urls': []}}, 'protected': False, 'followers_count': 89, 'friends_count': 408, 'listed_count': 0, 'created_at': 'Sat Oct 17 05:39:06 +0000 2009', 'favourites_count': 514, 'utc_offset': None, 'time_zone': None, 'geo_enabled': True, 'verified': False, 'statuses_count': 316, 'lang': None, 'contributors_enabled': False, 'is_translator': False, 'is_translation_enabled': False, 'profile_background_color': 'C0DEED', 'profile_background_image_url': 'http://abs.twimg.com/images/themes/theme1/bg.png', 'profile_background_image_url_https': 'https://abs.twimg.com/images/themes/theme1/bg.png', 'profile_background_tile': False, 'profile_image_url': 'http://pbs.twimg.com/profile_images/891522721862963200/HN3X3QsZ_normal.jpg', 'profile_image_url_https': 'https://pbs.twimg.com/profile_images/891522721862963200/HN3X3QsZ_normal.jpg', 'profile_link_color': '1DA1F2', 'profile_sidebar_border_color': 'C0DEED', 'profile_sidebar_fill_color': 'DDEEF6', 'profile_text_color': '333333', 'profile_use_background_image': True, 'has_extended_profile': False, 'default_profile': True, 'default_profile_image': False, 'following': False, 'follow_request_sent': False, 'notifications': False, 'translator_type': 'none'}, id=83066296, id_str='83066296', name='Thiyagarajan', screen_name='thiyagu102', location='Chennai', description='', url=None, entities={'description': {'urls': []}}, protected=False, followers_count=89, friends_count=408, listed_count=0, created_at=datetime.datetime(2009, 10, 17, 5, 39, 6), favourites_count=514, utc_offset=None, time_zone=None, geo_enabled=True, verified=False, statuses_count=316, lang=None, contributors_enabled=False, is_translator=False, is_translation_enabled=False, profile_background_color='C0DEED', profile_background_image_url='http://abs.twimg.com/images/themes/theme1/bg.png', profile_background_image_url_https='https://abs.twimg.com/images/themes/theme1/bg.png', profile_background_tile=False, profile_image_url='http://pbs.twimg.com/profile_images/891522721862963200/HN3X3QsZ_normal.jpg', profile_image_url_https='https://pbs.twimg.com/profile_images/891522721862963200/HN3X3QsZ_normal.jpg', profile_link_color='1DA1F2', profile_sidebar_border_color='C0DEED', profile_sidebar_fill_color='DDEEF6', profile_text_color='333333', profile_use_background_image=True, has_extended_profile=False, default_profile=True, default_profile_image=False, following=False, follow_request_sent=False, notifications=False, translator_type='none'), geo=None, coordinates=None, place=None, contributors=None, is_quote_status=False, retweet_count=0, favorite_count=1, favorited=False, retweeted=False, lang='en') \n",
      "\n",
      ".....................................\n",
      "\n"
     ]
    }
   ],
   "source": [
    "Tweets = api.search( query , count=10 , lang='en' , exclude='retweets' , tweet_mode='extended' )\n",
    "# tweet_mode='extended'\n",
    "# tweet_mode='compat'\n",
    "\n",
    "for tweet in Tweets:\n",
    "    print(tweet,\"\\n\")\n",
    "    print(\".....................................\\n\")"
   ]
  },
  {
   "cell_type": "code",
   "execution_count": 6,
   "metadata": {
    "colab": {
     "base_uri": "https://localhost:8080/"
    },
    "id": "htbARLTDd959",
    "outputId": "60afa2ed-9410-4773-d724-235f4e5747a6"
   },
   "outputs": [
    {
     "name": "stdout",
     "output_type": "stream",
     "text": [
      "Empty DataFrame\n",
      "Columns: [Tweets, User, User_statuses_count, user_followers, User_location, User_verified, fav_count, rt_count, tweet_date]\n",
      "Index: []\n"
     ]
    }
   ],
   "source": [
    "df = pd.DataFrame(columns = ['Tweets' , 'User' , 'User_statuses_count' , \n",
    "                            'user_followers' , 'User_location' , 'User_verified' ,\n",
    "                            'fav_count' , 'rt_count' , 'tweet_date'] )\n",
    "print(df)\n",
    "# print(df.shape)"
   ]
  },
  {
   "cell_type": "code",
   "execution_count": 9,
   "metadata": {
    "id": "ASfre_KxeLoQ"
   },
   "outputs": [],
   "source": [
    "def stream(data):\n",
    "    i = 0\n",
    "    for tweet in tweepy.Cursor(api.search, q=data, count=100, lang='en').items():\n",
    "        df.loc[i, 'Tweets'] = tweet.text\n",
    "        df.loc[i, 'User'] = tweet.user.name\n",
    "        df.loc[i, 'User_statuses_count'] = tweet.user.statuses_count\n",
    "        df.loc[i, 'user_followers'] = tweet.user.followers_count\n",
    "        df.loc[i, 'User_location'] = tweet.user.location\n",
    "        df.loc[i, 'User_verified'] = tweet.user.verified\n",
    "        df.loc[i, 'fav_count'] = tweet.favorite_count\n",
    "        df.loc[i, 'rt_count'] = tweet.retweet_count\n",
    "        df.loc[i, 'tweet_date'] = tweet.created_at\n",
    "        i = i+1\n",
    "        if i == 1000:\n",
    "            break\n",
    "        else:\n",
    "            pass"
   ]
  },
  {
   "cell_type": "code",
   "execution_count": 10,
   "metadata": {
    "id": "m4ySmJkXeOCi"
   },
   "outputs": [],
   "source": [
    "stream(data=[\"RCB winning IPL\"] )"
   ]
  },
  {
   "cell_type": "code",
   "execution_count": 11,
   "metadata": {
    "colab": {
     "base_uri": "https://localhost:8080/",
     "height": 195
    },
    "id": "cTkFBd2YeQGD",
    "outputId": "d43cc912-0927-46f1-ac1c-7b733d61740c"
   },
   "outputs": [
    {
     "data": {
      "text/html": [
       "<div>\n",
       "<style scoped>\n",
       "    .dataframe tbody tr th:only-of-type {\n",
       "        vertical-align: middle;\n",
       "    }\n",
       "\n",
       "    .dataframe tbody tr th {\n",
       "        vertical-align: top;\n",
       "    }\n",
       "\n",
       "    .dataframe thead th {\n",
       "        text-align: right;\n",
       "    }\n",
       "</style>\n",
       "<table border=\"1\" class=\"dataframe\">\n",
       "  <thead>\n",
       "    <tr style=\"text-align: right;\">\n",
       "      <th></th>\n",
       "      <th>Tweets</th>\n",
       "      <th>User</th>\n",
       "      <th>User_statuses_count</th>\n",
       "      <th>user_followers</th>\n",
       "      <th>User_location</th>\n",
       "      <th>User_verified</th>\n",
       "      <th>fav_count</th>\n",
       "      <th>rt_count</th>\n",
       "      <th>tweet_date</th>\n",
       "    </tr>\n",
       "  </thead>\n",
       "  <tbody>\n",
       "    <tr>\n",
       "      <th>0</th>\n",
       "      <td>Jason Holder is unsold in auction\\n After matc...</td>\n",
       "      <td>SarathChandra</td>\n",
       "      <td>36325</td>\n",
       "      <td>1250</td>\n",
       "      <td>Balcony4raina.com</td>\n",
       "      <td>False</td>\n",
       "      <td>4</td>\n",
       "      <td>0</td>\n",
       "      <td>2020-11-04 04:39:59</td>\n",
       "    </tr>\n",
       "    <tr>\n",
       "      <th>1</th>\n",
       "      <td>RT @ushank21: @ESPNcricinfo RCB winning 2020 I...</td>\n",
       "      <td>Naresh Dh@NuSh</td>\n",
       "      <td>40950</td>\n",
       "      <td>593</td>\n",
       "      <td>Chennai, India</td>\n",
       "      <td>False</td>\n",
       "      <td>0</td>\n",
       "      <td>1</td>\n",
       "      <td>2020-11-04 04:36:44</td>\n",
       "    </tr>\n",
       "    <tr>\n",
       "      <th>2</th>\n",
       "      <td>@maakidaal @ESPNcricinfo @RCBTweets 2020 has b...</td>\n",
       "      <td>CJ</td>\n",
       "      <td>47362</td>\n",
       "      <td>701</td>\n",
       "      <td>Bangalore</td>\n",
       "      <td>False</td>\n",
       "      <td>0</td>\n",
       "      <td>0</td>\n",
       "      <td>2020-11-04 04:03:46</td>\n",
       "    </tr>\n",
       "    <tr>\n",
       "      <th>3</th>\n",
       "      <td>@RCBTweets @imVkohli Virat Kohli  Please IPL d...</td>\n",
       "      <td>Shivakumar NR</td>\n",
       "      <td>80</td>\n",
       "      <td>4</td>\n",
       "      <td></td>\n",
       "      <td>False</td>\n",
       "      <td>0</td>\n",
       "      <td>0</td>\n",
       "      <td>2020-11-04 03:57:37</td>\n",
       "    </tr>\n",
       "    <tr>\n",
       "      <th>4</th>\n",
       "      <td>DC wins qualifier 1 and RCB wins eliminator, f...</td>\n",
       "      <td>s</td>\n",
       "      <td>81683</td>\n",
       "      <td>1202</td>\n",
       "      <td>she/her | 20</td>\n",
       "      <td>False</td>\n",
       "      <td>1</td>\n",
       "      <td>0</td>\n",
       "      <td>2020-11-04 03:18:57</td>\n",
       "    </tr>\n",
       "  </tbody>\n",
       "</table>\n",
       "</div>"
      ],
      "text/plain": [
       "                                              Tweets            User  \\\n",
       "0  Jason Holder is unsold in auction\\n After matc...   SarathChandra   \n",
       "1  RT @ushank21: @ESPNcricinfo RCB winning 2020 I...  Naresh Dh@NuSh   \n",
       "2  @maakidaal @ESPNcricinfo @RCBTweets 2020 has b...              CJ   \n",
       "3  @RCBTweets @imVkohli Virat Kohli  Please IPL d...   Shivakumar NR   \n",
       "4  DC wins qualifier 1 and RCB wins eliminator, f...               s   \n",
       "\n",
       "  User_statuses_count user_followers      User_location User_verified  \\\n",
       "0               36325           1250  Balcony4raina.com         False   \n",
       "1               40950            593     Chennai, India         False   \n",
       "2               47362            701          Bangalore         False   \n",
       "3                  80              4                            False   \n",
       "4               81683           1202       she/her | 20         False   \n",
       "\n",
       "  fav_count rt_count           tweet_date  \n",
       "0         4        0  2020-11-04 04:39:59  \n",
       "1         0        1  2020-11-04 04:36:44  \n",
       "2         0        0  2020-11-04 04:03:46  \n",
       "3         0        0  2020-11-04 03:57:37  \n",
       "4         1        0  2020-11-04 03:18:57  "
      ]
     },
     "execution_count": 11,
     "metadata": {},
     "output_type": "execute_result"
    }
   ],
   "source": [
    "df.head()"
   ]
  },
  {
   "cell_type": "code",
   "execution_count": 7,
   "metadata": {
    "id": "2bUr7U03e1FT"
   },
   "outputs": [],
   "source": [
    "from textblob import TextBlob"
   ]
  },
  {
   "cell_type": "code",
   "execution_count": 11,
   "metadata": {
    "id": "2gAfRXwYe3l2"
   },
   "outputs": [],
   "source": [
    "import re\n",
    "def clean_tweet(tweet):\n",
    "    return ' '.join(re.sub('(@[A-Za-z0-9]+)|([^0-9A-Za-z \\t])|(\\w+:\\/\\/\\S+)', ' ', tweet).split())"
   ]
  },
  {
   "cell_type": "code",
   "execution_count": 9,
   "metadata": {
    "id": "aHA257a-fEL5"
   },
   "outputs": [],
   "source": [
    "def analyze_sentiment(tweet):\n",
    "    analysis = TextBlob(tweet)\n",
    "    if analysis.sentiment.polarity > 0:\n",
    "        return 'Statement is Positive'\n",
    "    elif analysis.sentiment.polarity == 0:\n",
    "        return 'Statement is Neutral'\n",
    "    else:\n",
    "        return 'Statement is Negative'\n",
    "    "
   ]
  },
  {
   "cell_type": "code",
   "execution_count": 13,
   "metadata": {
    "id": "QpBjZOP_fGdK"
   },
   "outputs": [],
   "source": [
    "df['clean_tweet'] = df['Tweets'].apply(lambda x : clean_tweet(x))"
   ]
  },
  {
   "cell_type": "code",
   "execution_count": 14,
   "metadata": {
    "colab": {
     "base_uri": "https://localhost:8080/",
     "height": 330
    },
    "id": "QfFgDBHWfIfd",
    "outputId": "b61d4875-2fd7-443f-e132-f9a63a0bf95d"
   },
   "outputs": [
    {
     "data": {
      "text/html": [
       "<div>\n",
       "<style scoped>\n",
       "    .dataframe tbody tr th:only-of-type {\n",
       "        vertical-align: middle;\n",
       "    }\n",
       "\n",
       "    .dataframe tbody tr th {\n",
       "        vertical-align: top;\n",
       "    }\n",
       "\n",
       "    .dataframe thead th {\n",
       "        text-align: right;\n",
       "    }\n",
       "</style>\n",
       "<table border=\"1\" class=\"dataframe\">\n",
       "  <thead>\n",
       "    <tr style=\"text-align: right;\">\n",
       "      <th></th>\n",
       "      <th>Tweets</th>\n",
       "      <th>User</th>\n",
       "      <th>User_statuses_count</th>\n",
       "      <th>user_followers</th>\n",
       "      <th>User_location</th>\n",
       "      <th>User_verified</th>\n",
       "      <th>fav_count</th>\n",
       "      <th>rt_count</th>\n",
       "      <th>tweet_date</th>\n",
       "      <th>clean_tweet</th>\n",
       "    </tr>\n",
       "  </thead>\n",
       "  <tbody>\n",
       "    <tr>\n",
       "      <th>0</th>\n",
       "      <td>RT @dheerankumar9: RCB winning status \\nhttps:...</td>\n",
       "      <td>Dheeran</td>\n",
       "      <td>708</td>\n",
       "      <td>3</td>\n",
       "      <td></td>\n",
       "      <td>False</td>\n",
       "      <td>0</td>\n",
       "      <td>1</td>\n",
       "      <td>2020-11-03 09:36:07</td>\n",
       "      <td>RT RCB winning status RCB PlayBold WeAreChalle...</td>\n",
       "    </tr>\n",
       "    <tr>\n",
       "      <th>1</th>\n",
       "      <td>RCB winning status \\nhttps://t.co/VkXP8iigLe  ...</td>\n",
       "      <td>Dheeran</td>\n",
       "      <td>708</td>\n",
       "      <td>3</td>\n",
       "      <td></td>\n",
       "      <td>False</td>\n",
       "      <td>2</td>\n",
       "      <td>1</td>\n",
       "      <td>2020-11-03 09:36:02</td>\n",
       "      <td>RCB winning status RCB PlayBold WeAreChallenge...</td>\n",
       "    </tr>\n",
       "    <tr>\n",
       "      <th>2</th>\n",
       "      <td>@imVkohli @RCBTweets Lol you could’t even win ...</td>\n",
       "      <td>Harsh</td>\n",
       "      <td>2</td>\n",
       "      <td>0</td>\n",
       "      <td></td>\n",
       "      <td>False</td>\n",
       "      <td>0</td>\n",
       "      <td>0</td>\n",
       "      <td>2020-11-03 08:53:40</td>\n",
       "      <td>Lol you could t even win eight matches to prou...</td>\n",
       "    </tr>\n",
       "    <tr>\n",
       "      <th>3</th>\n",
       "      <td>RCB/SRH winning the IPL.</td>\n",
       "      <td>Droopyaxe</td>\n",
       "      <td>7670</td>\n",
       "      <td>279</td>\n",
       "      <td></td>\n",
       "      <td>False</td>\n",
       "      <td>1</td>\n",
       "      <td>0</td>\n",
       "      <td>2020-11-03 08:32:44</td>\n",
       "      <td>RCB SRH winning the IPL</td>\n",
       "    </tr>\n",
       "    <tr>\n",
       "      <th>4</th>\n",
       "      <td>Rcb thrashed kkr twice this season, mumbai has...</td>\n",
       "      <td>Ayush Rungta7️⃣</td>\n",
       "      <td>5422</td>\n",
       "      <td>169</td>\n",
       "      <td>Agra, India</td>\n",
       "      <td>False</td>\n",
       "      <td>2</td>\n",
       "      <td>0</td>\n",
       "      <td>2020-11-03 08:30:28</td>\n",
       "      <td>Rcb thrashed kkr twice this season mumbai has ...</td>\n",
       "    </tr>\n",
       "  </tbody>\n",
       "</table>\n",
       "</div>"
      ],
      "text/plain": [
       "                                              Tweets             User  \\\n",
       "0  RT @dheerankumar9: RCB winning status \\nhttps:...          Dheeran   \n",
       "1  RCB winning status \\nhttps://t.co/VkXP8iigLe  ...          Dheeran   \n",
       "2  @imVkohli @RCBTweets Lol you could’t even win ...            Harsh   \n",
       "3                           RCB/SRH winning the IPL.        Droopyaxe   \n",
       "4  Rcb thrashed kkr twice this season, mumbai has...  Ayush Rungta7️⃣   \n",
       "\n",
       "  User_statuses_count user_followers User_location User_verified fav_count  \\\n",
       "0                 708              3                       False         0   \n",
       "1                 708              3                       False         2   \n",
       "2                   2              0                       False         0   \n",
       "3                7670            279                       False         1   \n",
       "4                5422            169   Agra, India         False         2   \n",
       "\n",
       "  rt_count           tweet_date  \\\n",
       "0        1  2020-11-03 09:36:07   \n",
       "1        1  2020-11-03 09:36:02   \n",
       "2        0  2020-11-03 08:53:40   \n",
       "3        0  2020-11-03 08:32:44   \n",
       "4        0  2020-11-03 08:30:28   \n",
       "\n",
       "                                         clean_tweet  \n",
       "0  RT RCB winning status RCB PlayBold WeAreChalle...  \n",
       "1  RCB winning status RCB PlayBold WeAreChallenge...  \n",
       "2  Lol you could t even win eight matches to prou...  \n",
       "3                            RCB SRH winning the IPL  \n",
       "4  Rcb thrashed kkr twice this season mumbai has ...  "
      ]
     },
     "execution_count": 14,
     "metadata": {},
     "output_type": "execute_result"
    }
   ],
   "source": [
    "df.head()"
   ]
  },
  {
   "cell_type": "code",
   "execution_count": 15,
   "metadata": {
    "colab": {
     "base_uri": "https://localhost:8080/",
     "height": 363
    },
    "id": "UhT7LGUXfKgE",
    "outputId": "8de0c593-8e87-46e6-bcd0-72aff359cbe7"
   },
   "outputs": [
    {
     "data": {
      "text/html": [
       "<div>\n",
       "<style scoped>\n",
       "    .dataframe tbody tr th:only-of-type {\n",
       "        vertical-align: middle;\n",
       "    }\n",
       "\n",
       "    .dataframe tbody tr th {\n",
       "        vertical-align: top;\n",
       "    }\n",
       "\n",
       "    .dataframe thead th {\n",
       "        text-align: right;\n",
       "    }\n",
       "</style>\n",
       "<table border=\"1\" class=\"dataframe\">\n",
       "  <thead>\n",
       "    <tr style=\"text-align: right;\">\n",
       "      <th></th>\n",
       "      <th>Tweets</th>\n",
       "      <th>User</th>\n",
       "      <th>User_statuses_count</th>\n",
       "      <th>user_followers</th>\n",
       "      <th>User_location</th>\n",
       "      <th>User_verified</th>\n",
       "      <th>fav_count</th>\n",
       "      <th>rt_count</th>\n",
       "      <th>tweet_date</th>\n",
       "      <th>clean_tweet</th>\n",
       "      <th>Sentiment</th>\n",
       "    </tr>\n",
       "  </thead>\n",
       "  <tbody>\n",
       "    <tr>\n",
       "      <th>0</th>\n",
       "      <td>RT @dheerankumar9: RCB winning status \\nhttps:...</td>\n",
       "      <td>Dheeran</td>\n",
       "      <td>708</td>\n",
       "      <td>3</td>\n",
       "      <td></td>\n",
       "      <td>False</td>\n",
       "      <td>0</td>\n",
       "      <td>1</td>\n",
       "      <td>2020-11-03 09:36:07</td>\n",
       "      <td>RT RCB winning status RCB PlayBold WeAreChalle...</td>\n",
       "      <td>Positive</td>\n",
       "    </tr>\n",
       "    <tr>\n",
       "      <th>1</th>\n",
       "      <td>RCB winning status \\nhttps://t.co/VkXP8iigLe  ...</td>\n",
       "      <td>Dheeran</td>\n",
       "      <td>708</td>\n",
       "      <td>3</td>\n",
       "      <td></td>\n",
       "      <td>False</td>\n",
       "      <td>2</td>\n",
       "      <td>1</td>\n",
       "      <td>2020-11-03 09:36:02</td>\n",
       "      <td>RCB winning status RCB PlayBold WeAreChallenge...</td>\n",
       "      <td>Positive</td>\n",
       "    </tr>\n",
       "    <tr>\n",
       "      <th>2</th>\n",
       "      <td>@imVkohli @RCBTweets Lol you could’t even win ...</td>\n",
       "      <td>Harsh</td>\n",
       "      <td>2</td>\n",
       "      <td>0</td>\n",
       "      <td></td>\n",
       "      <td>False</td>\n",
       "      <td>0</td>\n",
       "      <td>0</td>\n",
       "      <td>2020-11-03 08:53:40</td>\n",
       "      <td>Lol you could t even win eight matches to prou...</td>\n",
       "      <td>Positive</td>\n",
       "    </tr>\n",
       "    <tr>\n",
       "      <th>3</th>\n",
       "      <td>RCB/SRH winning the IPL.</td>\n",
       "      <td>Droopyaxe</td>\n",
       "      <td>7670</td>\n",
       "      <td>279</td>\n",
       "      <td></td>\n",
       "      <td>False</td>\n",
       "      <td>1</td>\n",
       "      <td>0</td>\n",
       "      <td>2020-11-03 08:32:44</td>\n",
       "      <td>RCB SRH winning the IPL</td>\n",
       "      <td>Positive</td>\n",
       "    </tr>\n",
       "    <tr>\n",
       "      <th>4</th>\n",
       "      <td>Rcb thrashed kkr twice this season, mumbai has...</td>\n",
       "      <td>Ayush Rungta7️⃣</td>\n",
       "      <td>5422</td>\n",
       "      <td>169</td>\n",
       "      <td>Agra, India</td>\n",
       "      <td>False</td>\n",
       "      <td>2</td>\n",
       "      <td>0</td>\n",
       "      <td>2020-11-03 08:30:28</td>\n",
       "      <td>Rcb thrashed kkr twice this season mumbai has ...</td>\n",
       "      <td>Positive</td>\n",
       "    </tr>\n",
       "  </tbody>\n",
       "</table>\n",
       "</div>"
      ],
      "text/plain": [
       "                                              Tweets             User  \\\n",
       "0  RT @dheerankumar9: RCB winning status \\nhttps:...          Dheeran   \n",
       "1  RCB winning status \\nhttps://t.co/VkXP8iigLe  ...          Dheeran   \n",
       "2  @imVkohli @RCBTweets Lol you could’t even win ...            Harsh   \n",
       "3                           RCB/SRH winning the IPL.        Droopyaxe   \n",
       "4  Rcb thrashed kkr twice this season, mumbai has...  Ayush Rungta7️⃣   \n",
       "\n",
       "  User_statuses_count user_followers User_location User_verified fav_count  \\\n",
       "0                 708              3                       False         0   \n",
       "1                 708              3                       False         2   \n",
       "2                   2              0                       False         0   \n",
       "3                7670            279                       False         1   \n",
       "4                5422            169   Agra, India         False         2   \n",
       "\n",
       "  rt_count           tweet_date  \\\n",
       "0        1  2020-11-03 09:36:07   \n",
       "1        1  2020-11-03 09:36:02   \n",
       "2        0  2020-11-03 08:53:40   \n",
       "3        0  2020-11-03 08:32:44   \n",
       "4        0  2020-11-03 08:30:28   \n",
       "\n",
       "                                         clean_tweet Sentiment  \n",
       "0  RT RCB winning status RCB PlayBold WeAreChalle...  Positive  \n",
       "1  RCB winning status RCB PlayBold WeAreChallenge...  Positive  \n",
       "2  Lol you could t even win eight matches to prou...  Positive  \n",
       "3                            RCB SRH winning the IPL  Positive  \n",
       "4  Rcb thrashed kkr twice this season mumbai has ...  Positive  "
      ]
     },
     "execution_count": 15,
     "metadata": {},
     "output_type": "execute_result"
    }
   ],
   "source": [
    "df['Sentiment'] = df['clean_tweet'].apply(lambda x : analyze_sentiment(x) )\n",
    "df.head()"
   ]
  },
  {
   "cell_type": "code",
   "execution_count": 16,
   "metadata": {
    "colab": {
     "base_uri": "https://localhost:8080/"
    },
    "id": "hplreBJUfMtE",
    "outputId": "36626379-0e1a-47fb-cc08-c1ae9ce47d50"
   },
   "outputs": [
    {
     "name": "stdout",
     "output_type": "stream",
     "text": [
      "Original tweet:\n",
      " RCB winning status \n",
      "https://t.co/VkXP8iigLe   👈🏽👌👌\n",
      "\n",
      "#RCB #PlayBold #WeAreChallengers #IPL2020 #Dream11IPL2020… https://t.co/mZBKojM1OC\n",
      "\n",
      "Clean tweet:\n",
      " RCB winning status RCB PlayBold WeAreChallengers IPL2020 Dream11IPL2020\n",
      "\n",
      "Sentiment of the tweet:\n",
      " Positive\n"
     ]
    }
   ],
   "source": [
    "n = 1\n",
    "print(\"Original tweet:\\n\",df['Tweets'][n])\n",
    "print()\n",
    "print(\"Clean tweet:\\n\",df['clean_tweet'][n])\n",
    "print()\n",
    "print(\"Sentiment of the tweet:\\n\",df['Sentiment'][n])"
   ]
  },
  {
   "cell_type": "code",
   "execution_count": 17,
   "metadata": {
    "colab": {
     "base_uri": "https://localhost:8080/"
    },
    "id": "_TTjA27bfO_5",
    "outputId": "46c82426-4ea5-4295-ed21-e796cf508e75"
   },
   "outputs": [
    {
     "name": "stdout",
     "output_type": "stream",
     "text": [
      "Original tweet:\n",
      " @ThorOffl @stranger2898 Devdutta\n",
      "Moeen\n",
      "Virat\n",
      "Finch\n",
      "Abd\n",
      "Dube\n",
      "Morris\n",
      "Sundar\n",
      "Saini \n",
      "Chahal \n",
      "Siraj \n",
      "\n",
      "Ipl winning team 👑… https://t.co/bjIApkGXKK\n",
      "\n",
      "Clean tweet:\n",
      " Devdutta Moeen Virat Finch Abd Dube Morris Sundar Saini Chahal Siraj Ipl winning team\n",
      "\n",
      "Sentiment of the tweet:\n",
      " Positive\n"
     ]
    }
   ],
   "source": [
    "n = 20\n",
    "print(\"Original tweet:\\n\",df['Tweets'][n])\n",
    "print()\n",
    "print(\"Clean tweet:\\n\",df['clean_tweet'][n])\n",
    "print()\n",
    "print(\"Sentiment of the tweet:\\n\",df['Sentiment'][n])"
   ]
  },
  {
   "cell_type": "code",
   "execution_count": 18,
   "metadata": {
    "colab": {
     "base_uri": "https://localhost:8080/"
    },
    "id": "VZYsjG3fgBrL",
    "outputId": "75263132-07c6-444a-9570-759354d201b5"
   },
   "outputs": [
    {
     "name": "stdout",
     "output_type": "stream",
     "text": [
      "Original tweet:\n",
      " RT @BrokenCricket: Last one week:\n",
      "\n",
      "Mumbai Winning\n",
      "CSK winning a thriller\n",
      "Delhi kept losing\n",
      "RCB struggling\n",
      "SRH bowling well\n",
      "RR beat Mumbai…\n",
      "\n",
      "Clean tweet:\n",
      " RT Last one week Mumbai Winning CSK winning a thriller Delhi kept losing RCB struggling SRH bowling well RR beat Mumbai\n",
      "\n",
      "Sentiment of the tweet:\n",
      " Positive\n"
     ]
    }
   ],
   "source": [
    "n = 203\n",
    "print(\"Original tweet:\\n\",df['Tweets'][n])\n",
    "print()\n",
    "print(\"Clean tweet:\\n\",df['clean_tweet'][n])\n",
    "print()\n",
    "print(\"Sentiment of the tweet:\\n\",df['Sentiment'][n])"
   ]
  },
  {
   "cell_type": "code",
   "execution_count": 19,
   "metadata": {
    "colab": {
     "base_uri": "https://localhost:8080/"
    },
    "id": "5R8oRMXXgEEF",
    "outputId": "f7928ed8-2979-4d20-9ccf-13f94a976818"
   },
   "outputs": [
    {
     "data": {
      "text/plain": [
       "946"
      ]
     },
     "execution_count": 19,
     "metadata": {},
     "output_type": "execute_result"
    }
   ],
   "source": [
    "df[df.Sentiment == 'Positive'].shape[0]"
   ]
  },
  {
   "cell_type": "code",
   "execution_count": 20,
   "metadata": {
    "colab": {
     "base_uri": "https://localhost:8080/"
    },
    "id": "omZhhWgugGKZ",
    "outputId": "9c58edbd-3376-4bcd-978b-f7d6a59ca69b"
   },
   "outputs": [
    {
     "data": {
      "text/plain": [
       "24"
      ]
     },
     "execution_count": 20,
     "metadata": {},
     "output_type": "execute_result"
    }
   ],
   "source": [
    "df[df.Sentiment == 'Neutral'].shape[0]"
   ]
  },
  {
   "cell_type": "code",
   "execution_count": 21,
   "metadata": {
    "colab": {
     "base_uri": "https://localhost:8080/"
    },
    "id": "fxiPfI80gIHG",
    "outputId": "44eef1cb-1c24-4299-c4ff-86ca8b8b6669"
   },
   "outputs": [
    {
     "data": {
      "text/plain": [
       "30"
      ]
     },
     "execution_count": 21,
     "metadata": {},
     "output_type": "execute_result"
    }
   ],
   "source": [
    "df[df.Sentiment == 'Negative'].shape[0]"
   ]
  }
 ],
 "metadata": {
  "colab": {
   "name": "Twitter Sentiment Analyzer.ipynb",
   "provenance": []
  },
  "kernelspec": {
   "display_name": "Python 3",
   "language": "python",
   "name": "python3"
  },
  "language_info": {
   "codemirror_mode": {
    "name": "ipython",
    "version": 3
   },
   "file_extension": ".py",
   "mimetype": "text/x-python",
   "name": "python",
   "nbconvert_exporter": "python",
   "pygments_lexer": "ipython3",
   "version": "3.7.6"
  }
 },
 "nbformat": 4,
 "nbformat_minor": 1
}
